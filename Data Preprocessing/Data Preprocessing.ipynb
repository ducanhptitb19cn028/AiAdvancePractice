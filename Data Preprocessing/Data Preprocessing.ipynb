{
 "cells": [
  {
   "cell_type": "markdown",
   "id": "c6d5e199",
   "metadata": {},
   "source": [
    "# DATA PREPROCESSING"
   ]
  },
  {
   "cell_type": "markdown",
   "id": "45e25bc4",
   "metadata": {},
   "source": [
    "## 1. Đọc và hiển thị dữ liệu"
   ]
  },
  {
   "cell_type": "markdown",
   "id": "110625f0",
   "metadata": {},
   "source": [
    "### 1.1 Các thư viện cần thiết để xử lí dữ liệu dạng bảng\n",
    "Pandas là một thư viện phần mềm được viết cho ngôn ngữ lập trình Python để thao tác và phân tích dữ liệu."
   ]
  },
  {
   "cell_type": "code",
   "execution_count": 1,
   "id": "3244749d",
   "metadata": {
    "ExecuteTime": {
     "end_time": "2023-07-09T01:53:38.323123Z",
     "start_time": "2023-07-09T01:53:36.952879800Z"
    }
   },
   "outputs": [],
   "source": [
    "import pandas as pd # Gọi thư viện pandas\n",
    "# import pandas\n",
    "# from pandas import *"
   ]
  },
  {
   "cell_type": "markdown",
   "id": "fd3d954d",
   "metadata": {},
   "source": [
    "NumPy là một thư viện dành cho ngôn ngữ lập trình Python, hỗ trợ thêm cho các mảng và ma trận lớn, đa chiều, cùng với một bộ sưu tập lớn các hàm toán học cấp cao để hoạt động trên các mảng này."
   ]
  },
  {
   "cell_type": "code",
   "execution_count": 2,
   "id": "14793580",
   "metadata": {
    "ExecuteTime": {
     "end_time": "2023-07-09T01:53:38.328438100Z",
     "start_time": "2023-07-09T01:53:38.326425600Z"
    }
   },
   "outputs": [],
   "source": [
    "import numpy as np # Gọi thư viện numpy"
   ]
  },
  {
   "cell_type": "markdown",
   "id": "9dfc42e4",
   "metadata": {},
   "source": [
    "### 1.2 Đọc và hiển thị dữ liệu"
   ]
  },
  {
   "cell_type": "markdown",
   "id": "aef6292b",
   "metadata": {},
   "source": [
    "### Đọc dữ liệu"
   ]
  },
  {
   "cell_type": "code",
   "execution_count": 3,
   "id": "3a84ed24",
   "metadata": {
    "ExecuteTime": {
     "end_time": "2023-07-09T01:53:38.349334600Z",
     "start_time": "2023-07-09T01:53:38.329464400Z"
    }
   },
   "outputs": [],
   "source": [
    "data = pd.read_csv('BTH2.csv')"
   ]
  },
  {
   "cell_type": "markdown",
   "id": "c337d61e",
   "metadata": {},
   "source": [
    "### Hiển thị dữ liệu"
   ]
  },
  {
   "cell_type": "code",
   "execution_count": 4,
   "id": "58969b6d",
   "metadata": {
    "ExecuteTime": {
     "end_time": "2023-07-09T01:53:38.373757200Z",
     "start_time": "2023-07-09T01:53:38.351352900Z"
    }
   },
   "outputs": [
    {
     "data": {
      "text/plain": "   Region   Age   Income Online Shopper\n0   India  49.0  86400.0             No\n1  Brazil  32.0  57600.0            Yes\n2     USA  35.0  64800.0             No\n3  Brazil  43.0  73200.0             No\n4     USA  45.0      NaN            Yes\n5     NaN  40.0  69600.0            Yes\n6  Brazil   NaN  62400.0             No\n7   India  53.0  94800.0            Yes\n8     USA  55.0  99600.0             No\n9   India  42.0  80400.0            Yes",
      "text/html": "<div>\n<style scoped>\n    .dataframe tbody tr th:only-of-type {\n        vertical-align: middle;\n    }\n\n    .dataframe tbody tr th {\n        vertical-align: top;\n    }\n\n    .dataframe thead th {\n        text-align: right;\n    }\n</style>\n<table border=\"1\" class=\"dataframe\">\n  <thead>\n    <tr style=\"text-align: right;\">\n      <th></th>\n      <th>Region</th>\n      <th>Age</th>\n      <th>Income</th>\n      <th>Online Shopper</th>\n    </tr>\n  </thead>\n  <tbody>\n    <tr>\n      <th>0</th>\n      <td>India</td>\n      <td>49.0</td>\n      <td>86400.0</td>\n      <td>No</td>\n    </tr>\n    <tr>\n      <th>1</th>\n      <td>Brazil</td>\n      <td>32.0</td>\n      <td>57600.0</td>\n      <td>Yes</td>\n    </tr>\n    <tr>\n      <th>2</th>\n      <td>USA</td>\n      <td>35.0</td>\n      <td>64800.0</td>\n      <td>No</td>\n    </tr>\n    <tr>\n      <th>3</th>\n      <td>Brazil</td>\n      <td>43.0</td>\n      <td>73200.0</td>\n      <td>No</td>\n    </tr>\n    <tr>\n      <th>4</th>\n      <td>USA</td>\n      <td>45.0</td>\n      <td>NaN</td>\n      <td>Yes</td>\n    </tr>\n    <tr>\n      <th>5</th>\n      <td>NaN</td>\n      <td>40.0</td>\n      <td>69600.0</td>\n      <td>Yes</td>\n    </tr>\n    <tr>\n      <th>6</th>\n      <td>Brazil</td>\n      <td>NaN</td>\n      <td>62400.0</td>\n      <td>No</td>\n    </tr>\n    <tr>\n      <th>7</th>\n      <td>India</td>\n      <td>53.0</td>\n      <td>94800.0</td>\n      <td>Yes</td>\n    </tr>\n    <tr>\n      <th>8</th>\n      <td>USA</td>\n      <td>55.0</td>\n      <td>99600.0</td>\n      <td>No</td>\n    </tr>\n    <tr>\n      <th>9</th>\n      <td>India</td>\n      <td>42.0</td>\n      <td>80400.0</td>\n      <td>Yes</td>\n    </tr>\n  </tbody>\n</table>\n</div>"
     },
     "execution_count": 4,
     "metadata": {},
     "output_type": "execute_result"
    }
   ],
   "source": [
    "data\n",
    "# display(data)"
   ]
  },
  {
   "cell_type": "markdown",
   "id": "3ab4d6b1",
   "metadata": {},
   "source": [
    "### 1.3 Một số thao tác cơ bản với dữ liệu"
   ]
  },
  {
   "cell_type": "markdown",
   "id": "7d1d94f8",
   "metadata": {},
   "source": [
    "#### 1.3.1 Xem thông tin về Index, kiểu dữ liệu và dung lượng"
   ]
  },
  {
   "cell_type": "code",
   "execution_count": 5,
   "id": "ece29952",
   "metadata": {
    "ExecuteTime": {
     "end_time": "2023-07-09T01:53:38.388711500Z",
     "start_time": "2023-07-09T01:53:38.365334300Z"
    }
   },
   "outputs": [
    {
     "name": "stdout",
     "output_type": "stream",
     "text": [
      "<class 'pandas.core.frame.DataFrame'>\n",
      "RangeIndex: 10 entries, 0 to 9\n",
      "Data columns (total 4 columns):\n",
      " #   Column          Non-Null Count  Dtype  \n",
      "---  ------          --------------  -----  \n",
      " 0   Region          9 non-null      object \n",
      " 1   Age             9 non-null      float64\n",
      " 2   Income          9 non-null      float64\n",
      " 3   Online Shopper  10 non-null     object \n",
      "dtypes: float64(2), object(2)\n",
      "memory usage: 448.0+ bytes\n"
     ]
    }
   ],
   "source": [
    "data.info()"
   ]
  },
  {
   "cell_type": "markdown",
   "id": "a85fefb4",
   "metadata": {},
   "source": [
    "#### 1.3.2 Thống kê số lượng giá trị"
   ]
  },
  {
   "cell_type": "code",
   "execution_count": 6,
   "id": "f3a1abef",
   "metadata": {
    "ExecuteTime": {
     "end_time": "2023-07-09T01:53:38.398844Z",
     "start_time": "2023-07-09T01:53:38.384716500Z"
    }
   },
   "outputs": [
    {
     "data": {
      "text/plain": "Region  Age   Income   Online Shopper\nBrazil  32.0  57600.0  Yes               1\n        43.0  73200.0  No                1\nIndia   42.0  80400.0  Yes               1\n        49.0  86400.0  No                1\n        53.0  94800.0  Yes               1\nUSA     35.0  64800.0  No                1\n        55.0  99600.0  No                1\nName: count, dtype: int64"
     },
     "execution_count": 6,
     "metadata": {},
     "output_type": "execute_result"
    }
   ],
   "source": [
    "data.value_counts()"
   ]
  },
  {
   "cell_type": "markdown",
   "id": "f7804115",
   "metadata": {},
   "source": [
    "#### 1.3.3 Thống kê số lượng giá trị còn trống"
   ]
  },
  {
   "cell_type": "code",
   "execution_count": 7,
   "id": "d6574893",
   "metadata": {
    "ExecuteTime": {
     "end_time": "2023-07-09T01:53:38.439006400Z",
     "start_time": "2023-07-09T01:53:38.399843500Z"
    }
   },
   "outputs": [
    {
     "data": {
      "text/plain": "Region            1\nAge               1\nIncome            1\nOnline Shopper    0\ndtype: int64"
     },
     "execution_count": 7,
     "metadata": {},
     "output_type": "execute_result"
    }
   ],
   "source": [
    "data.isna().sum()"
   ]
  },
  {
   "cell_type": "markdown",
   "id": "b86aa890",
   "metadata": {},
   "source": [
    "#### 1.3.4 Lấy mẫu dữ liệu"
   ]
  },
  {
   "cell_type": "code",
   "execution_count": 8,
   "id": "b12b0320",
   "metadata": {
    "ExecuteTime": {
     "end_time": "2023-07-09T01:53:38.494680600Z",
     "start_time": "2023-07-09T01:53:38.406099300Z"
    }
   },
   "outputs": [
    {
     "data": {
      "text/plain": "   Region   Age   Income Online Shopper\n3  Brazil  43.0  73200.0             No\n6  Brazil   NaN  62400.0             No\n4     USA  45.0      NaN            Yes\n0   India  49.0  86400.0             No\n2     USA  35.0  64800.0             No",
      "text/html": "<div>\n<style scoped>\n    .dataframe tbody tr th:only-of-type {\n        vertical-align: middle;\n    }\n\n    .dataframe tbody tr th {\n        vertical-align: top;\n    }\n\n    .dataframe thead th {\n        text-align: right;\n    }\n</style>\n<table border=\"1\" class=\"dataframe\">\n  <thead>\n    <tr style=\"text-align: right;\">\n      <th></th>\n      <th>Region</th>\n      <th>Age</th>\n      <th>Income</th>\n      <th>Online Shopper</th>\n    </tr>\n  </thead>\n  <tbody>\n    <tr>\n      <th>3</th>\n      <td>Brazil</td>\n      <td>43.0</td>\n      <td>73200.0</td>\n      <td>No</td>\n    </tr>\n    <tr>\n      <th>6</th>\n      <td>Brazil</td>\n      <td>NaN</td>\n      <td>62400.0</td>\n      <td>No</td>\n    </tr>\n    <tr>\n      <th>4</th>\n      <td>USA</td>\n      <td>45.0</td>\n      <td>NaN</td>\n      <td>Yes</td>\n    </tr>\n    <tr>\n      <th>0</th>\n      <td>India</td>\n      <td>49.0</td>\n      <td>86400.0</td>\n      <td>No</td>\n    </tr>\n    <tr>\n      <th>2</th>\n      <td>USA</td>\n      <td>35.0</td>\n      <td>64800.0</td>\n      <td>No</td>\n    </tr>\n  </tbody>\n</table>\n</div>"
     },
     "execution_count": 8,
     "metadata": {},
     "output_type": "execute_result"
    }
   ],
   "source": [
    "num_sample = 5\n",
    "data.sample(num_sample)"
   ]
  },
  {
   "cell_type": "markdown",
   "id": "32564590",
   "metadata": {},
   "source": [
    "#### 1.3.5 Một số các thao tác khác"
   ]
  },
  {
   "cell_type": "markdown",
   "id": "d520a034",
   "metadata": {},
   "source": [
    "## 2. Tiền xử lí dữ liệu\n",
    "Trên thực tế, dữ liệu mà chúng ta nhận được thường sẽ bị thô, nói cách khác, bất cứ khi nào dữ liệu được thu thập từ các nguồn khác nhau, nó được thu thập ở định dạng thô không khả thi cho việc phân tích. Để đạt được kết quả tốt hơn từ mô hình được áp dụng trong các dự án ML , định dạng của dữ liệu phải theo cách phù hợp. Một số mô hình ML được chỉ định cần thông tin ở định dạng được chỉ định.\n",
    "\n",
    " - Tiền xử lý dữ liệu đề cập đến các phép biến đổi được áp dụng cho dữ liệu của chúng ta trước khi đưa nó vào thuật toán.\n",
    " - Tiền xử lý dữ liệu là một kỹ thuật được sử dụng để chuyển đổi dữ liệu thô thành một tập dữ liệu sạch. "
   ]
  },
  {
   "cell_type": "markdown",
   "id": "a09f88b3",
   "metadata": {},
   "source": [
    "### 2.1 Xử lí dữ liệu bị thiếu\n",
    "Dữ liệu bị thiếu do trong quá trình thu thập không đầy đủ hoặc không có các số liệu cần thiết.\n",
    "Các phương pháp xử lí dữ liệu còn thiếu:\n",
    "- Điền các giá trị NaN bằng phương pháp giá trị trung bình\n",
    "- Điền các giá trị NaN bằng phương pháp tần số cao nhất\n",
    "- ..."
   ]
  },
  {
   "cell_type": "markdown",
   "id": "ca3570cd",
   "metadata": {},
   "source": [
    "#### 2.1.1 Phương pháp giá trị trung bình\n",
    "    Áp dụng cho các trường dữ liệu số."
   ]
  },
  {
   "cell_type": "code",
   "execution_count": 9,
   "id": "3e7e17d7",
   "metadata": {
    "ExecuteTime": {
     "end_time": "2023-07-09T01:53:38.495252100Z",
     "start_time": "2023-07-09T01:53:38.418158600Z"
    }
   },
   "outputs": [],
   "source": [
    "df1 = data.copy() # sao chép dữ liệu giúp thuận tiện cho việc sửa lỗi"
   ]
  },
  {
   "cell_type": "code",
   "execution_count": 10,
   "id": "c6f1b277",
   "metadata": {
    "ExecuteTime": {
     "end_time": "2023-07-09T01:53:38.495757500Z",
     "start_time": "2023-07-09T01:53:38.425309100Z"
    }
   },
   "outputs": [
    {
     "data": {
      "text/plain": "Region            1\nAge               1\nIncome            1\nOnline Shopper    0\ndtype: int64"
     },
     "metadata": {},
     "output_type": "display_data"
    },
    {
     "data": {
      "text/plain": "   Region   Age   Income Online Shopper\n0   India  49.0  86400.0             No\n1  Brazil  32.0  57600.0            Yes\n2     USA  35.0  64800.0             No\n3  Brazil  43.0  73200.0             No\n4     USA  45.0      NaN            Yes\n5     NaN  40.0  69600.0            Yes\n6  Brazil   NaN  62400.0             No\n7   India  53.0  94800.0            Yes\n8     USA  55.0  99600.0             No\n9   India  42.0  80400.0            Yes",
      "text/html": "<div>\n<style scoped>\n    .dataframe tbody tr th:only-of-type {\n        vertical-align: middle;\n    }\n\n    .dataframe tbody tr th {\n        vertical-align: top;\n    }\n\n    .dataframe thead th {\n        text-align: right;\n    }\n</style>\n<table border=\"1\" class=\"dataframe\">\n  <thead>\n    <tr style=\"text-align: right;\">\n      <th></th>\n      <th>Region</th>\n      <th>Age</th>\n      <th>Income</th>\n      <th>Online Shopper</th>\n    </tr>\n  </thead>\n  <tbody>\n    <tr>\n      <th>0</th>\n      <td>India</td>\n      <td>49.0</td>\n      <td>86400.0</td>\n      <td>No</td>\n    </tr>\n    <tr>\n      <th>1</th>\n      <td>Brazil</td>\n      <td>32.0</td>\n      <td>57600.0</td>\n      <td>Yes</td>\n    </tr>\n    <tr>\n      <th>2</th>\n      <td>USA</td>\n      <td>35.0</td>\n      <td>64800.0</td>\n      <td>No</td>\n    </tr>\n    <tr>\n      <th>3</th>\n      <td>Brazil</td>\n      <td>43.0</td>\n      <td>73200.0</td>\n      <td>No</td>\n    </tr>\n    <tr>\n      <th>4</th>\n      <td>USA</td>\n      <td>45.0</td>\n      <td>NaN</td>\n      <td>Yes</td>\n    </tr>\n    <tr>\n      <th>5</th>\n      <td>NaN</td>\n      <td>40.0</td>\n      <td>69600.0</td>\n      <td>Yes</td>\n    </tr>\n    <tr>\n      <th>6</th>\n      <td>Brazil</td>\n      <td>NaN</td>\n      <td>62400.0</td>\n      <td>No</td>\n    </tr>\n    <tr>\n      <th>7</th>\n      <td>India</td>\n      <td>53.0</td>\n      <td>94800.0</td>\n      <td>Yes</td>\n    </tr>\n    <tr>\n      <th>8</th>\n      <td>USA</td>\n      <td>55.0</td>\n      <td>99600.0</td>\n      <td>No</td>\n    </tr>\n    <tr>\n      <th>9</th>\n      <td>India</td>\n      <td>42.0</td>\n      <td>80400.0</td>\n      <td>Yes</td>\n    </tr>\n  </tbody>\n</table>\n</div>"
     },
     "metadata": {},
     "output_type": "display_data"
    }
   ],
   "source": [
    "display(df1.isna().sum())\n",
    "display(df1)"
   ]
  },
  {
   "cell_type": "code",
   "execution_count": 11,
   "id": "e78dd7e5",
   "metadata": {
    "ExecuteTime": {
     "end_time": "2023-07-09T01:53:38.495757500Z",
     "start_time": "2023-07-09T01:53:38.436571Z"
    }
   },
   "outputs": [],
   "source": [
    "# Tiến hành thay giá trị 'NaN' bằng giá trị trung bình\n",
    "df1['Age'].fillna(round(data['Age'].mean()),inplace=True)\n",
    "df1['Income'].fillna(round(data['Income'].mean()),inplace=True)"
   ]
  },
  {
   "cell_type": "markdown",
   "id": "d9f189e3",
   "metadata": {},
   "source": [
    "    *Note:\n",
    "        - fillna() : hàm điền giá trị NaN\n",
    "        - round() : hàm tròn giá trị cho trước\n",
    "        - mean() : hàm lấy giá trị trung bình"
   ]
  },
  {
   "cell_type": "code",
   "execution_count": 12,
   "id": "765e6ebe",
   "metadata": {
    "ExecuteTime": {
     "end_time": "2023-07-09T01:53:38.841870100Z",
     "start_time": "2023-07-09T01:53:38.442012700Z"
    }
   },
   "outputs": [
    {
     "data": {
      "text/plain": "   Region   Age   Income Online Shopper\n0   India  49.0  86400.0             No\n1  Brazil  32.0  57600.0            Yes\n2     USA  35.0  64800.0             No\n3  Brazil  43.0  73200.0             No\n4     USA  45.0  76533.0            Yes\n5     NaN  40.0  69600.0            Yes\n6  Brazil  44.0  62400.0             No\n7   India  53.0  94800.0            Yes\n8     USA  55.0  99600.0             No\n9   India  42.0  80400.0            Yes",
      "text/html": "<div>\n<style scoped>\n    .dataframe tbody tr th:only-of-type {\n        vertical-align: middle;\n    }\n\n    .dataframe tbody tr th {\n        vertical-align: top;\n    }\n\n    .dataframe thead th {\n        text-align: right;\n    }\n</style>\n<table border=\"1\" class=\"dataframe\">\n  <thead>\n    <tr style=\"text-align: right;\">\n      <th></th>\n      <th>Region</th>\n      <th>Age</th>\n      <th>Income</th>\n      <th>Online Shopper</th>\n    </tr>\n  </thead>\n  <tbody>\n    <tr>\n      <th>0</th>\n      <td>India</td>\n      <td>49.0</td>\n      <td>86400.0</td>\n      <td>No</td>\n    </tr>\n    <tr>\n      <th>1</th>\n      <td>Brazil</td>\n      <td>32.0</td>\n      <td>57600.0</td>\n      <td>Yes</td>\n    </tr>\n    <tr>\n      <th>2</th>\n      <td>USA</td>\n      <td>35.0</td>\n      <td>64800.0</td>\n      <td>No</td>\n    </tr>\n    <tr>\n      <th>3</th>\n      <td>Brazil</td>\n      <td>43.0</td>\n      <td>73200.0</td>\n      <td>No</td>\n    </tr>\n    <tr>\n      <th>4</th>\n      <td>USA</td>\n      <td>45.0</td>\n      <td>76533.0</td>\n      <td>Yes</td>\n    </tr>\n    <tr>\n      <th>5</th>\n      <td>NaN</td>\n      <td>40.0</td>\n      <td>69600.0</td>\n      <td>Yes</td>\n    </tr>\n    <tr>\n      <th>6</th>\n      <td>Brazil</td>\n      <td>44.0</td>\n      <td>62400.0</td>\n      <td>No</td>\n    </tr>\n    <tr>\n      <th>7</th>\n      <td>India</td>\n      <td>53.0</td>\n      <td>94800.0</td>\n      <td>Yes</td>\n    </tr>\n    <tr>\n      <th>8</th>\n      <td>USA</td>\n      <td>55.0</td>\n      <td>99600.0</td>\n      <td>No</td>\n    </tr>\n    <tr>\n      <th>9</th>\n      <td>India</td>\n      <td>42.0</td>\n      <td>80400.0</td>\n      <td>Yes</td>\n    </tr>\n  </tbody>\n</table>\n</div>"
     },
     "execution_count": 12,
     "metadata": {},
     "output_type": "execute_result"
    }
   ],
   "source": [
    "df1\n",
    "# df1.isna().sum()"
   ]
  },
  {
   "cell_type": "markdown",
   "id": "b2a909e7",
   "metadata": {},
   "source": [
    "#### 2.2.2 Phương pháp tần số cao nhất\n",
    "    Áp dụng cho các trường giá trị rời rạc"
   ]
  },
  {
   "cell_type": "code",
   "execution_count": 13,
   "id": "8f895f7e",
   "metadata": {
    "ExecuteTime": {
     "end_time": "2023-07-09T01:53:38.861843800Z",
     "start_time": "2023-07-09T01:53:38.454703200Z"
    }
   },
   "outputs": [],
   "source": [
    "# Tiến hành thay giá trị 'NaN' bằng giá trị xuất hiện với tần số lớn nhất\n",
    "df1['Region'].fillna(df1['Region'].mode()[0], inplace = True)"
   ]
  },
  {
   "cell_type": "markdown",
   "id": "eb4eefff",
   "metadata": {},
   "source": [
    "    *Note: \n",
    "        - mode() : hàm lấy giá trị có tần số xuất hiện lớn nhất"
   ]
  },
  {
   "cell_type": "code",
   "execution_count": 14,
   "id": "4743a202",
   "metadata": {
    "ExecuteTime": {
     "end_time": "2023-07-09T01:53:38.930358300Z",
     "start_time": "2023-07-09T01:53:38.457709800Z"
    }
   },
   "outputs": [
    {
     "data": {
      "text/plain": "   Region   Age   Income Online Shopper\n0   India  49.0  86400.0             No\n1  Brazil  32.0  57600.0            Yes\n2     USA  35.0  64800.0             No\n3  Brazil  43.0  73200.0             No\n4     USA  45.0  76533.0            Yes\n5  Brazil  40.0  69600.0            Yes\n6  Brazil  44.0  62400.0             No\n7   India  53.0  94800.0            Yes\n8     USA  55.0  99600.0             No\n9   India  42.0  80400.0            Yes",
      "text/html": "<div>\n<style scoped>\n    .dataframe tbody tr th:only-of-type {\n        vertical-align: middle;\n    }\n\n    .dataframe tbody tr th {\n        vertical-align: top;\n    }\n\n    .dataframe thead th {\n        text-align: right;\n    }\n</style>\n<table border=\"1\" class=\"dataframe\">\n  <thead>\n    <tr style=\"text-align: right;\">\n      <th></th>\n      <th>Region</th>\n      <th>Age</th>\n      <th>Income</th>\n      <th>Online Shopper</th>\n    </tr>\n  </thead>\n  <tbody>\n    <tr>\n      <th>0</th>\n      <td>India</td>\n      <td>49.0</td>\n      <td>86400.0</td>\n      <td>No</td>\n    </tr>\n    <tr>\n      <th>1</th>\n      <td>Brazil</td>\n      <td>32.0</td>\n      <td>57600.0</td>\n      <td>Yes</td>\n    </tr>\n    <tr>\n      <th>2</th>\n      <td>USA</td>\n      <td>35.0</td>\n      <td>64800.0</td>\n      <td>No</td>\n    </tr>\n    <tr>\n      <th>3</th>\n      <td>Brazil</td>\n      <td>43.0</td>\n      <td>73200.0</td>\n      <td>No</td>\n    </tr>\n    <tr>\n      <th>4</th>\n      <td>USA</td>\n      <td>45.0</td>\n      <td>76533.0</td>\n      <td>Yes</td>\n    </tr>\n    <tr>\n      <th>5</th>\n      <td>Brazil</td>\n      <td>40.0</td>\n      <td>69600.0</td>\n      <td>Yes</td>\n    </tr>\n    <tr>\n      <th>6</th>\n      <td>Brazil</td>\n      <td>44.0</td>\n      <td>62400.0</td>\n      <td>No</td>\n    </tr>\n    <tr>\n      <th>7</th>\n      <td>India</td>\n      <td>53.0</td>\n      <td>94800.0</td>\n      <td>Yes</td>\n    </tr>\n    <tr>\n      <th>8</th>\n      <td>USA</td>\n      <td>55.0</td>\n      <td>99600.0</td>\n      <td>No</td>\n    </tr>\n    <tr>\n      <th>9</th>\n      <td>India</td>\n      <td>42.0</td>\n      <td>80400.0</td>\n      <td>Yes</td>\n    </tr>\n  </tbody>\n</table>\n</div>"
     },
     "execution_count": 14,
     "metadata": {},
     "output_type": "execute_result"
    }
   ],
   "source": [
    "df1"
   ]
  },
  {
   "cell_type": "markdown",
   "id": "9b4a5e49",
   "metadata": {},
   "source": [
    "#### Kiểm tra lại dữ liệu sau khi xử lí"
   ]
  },
  {
   "cell_type": "code",
   "execution_count": 15,
   "id": "3afd1daf",
   "metadata": {
    "ExecuteTime": {
     "end_time": "2023-07-09T01:53:38.931358600Z",
     "start_time": "2023-07-09T01:53:38.467885800Z"
    }
   },
   "outputs": [
    {
     "data": {
      "text/plain": "Region            0\nAge               0\nIncome            0\nOnline Shopper    0\ndtype: int64"
     },
     "execution_count": 15,
     "metadata": {},
     "output_type": "execute_result"
    }
   ],
   "source": [
    "df1.isna().sum()"
   ]
  },
  {
   "cell_type": "markdown",
   "id": "b3693c30",
   "metadata": {},
   "source": [
    "Ngoài ra còn có rất nhiều các phương pháp xử lí dữ liệu bị thiếu khác."
   ]
  },
  {
   "cell_type": "markdown",
   "id": "45f2db74",
   "metadata": {},
   "source": [
    "### 2.2 Chuẩn hóa dữ liệu theo MinMax\n",
    "- Xnew : Giá trị sau khi chuẩn hóa\n",
    "- Xi : Giá trị trước khi chuẩn hóa\n",
    "- min(X) : Giá trị nhỏ nhất của trường dữ liệu\n",
    "- max(X) : Giá trị lớn nhất của trường dữ liệu\n",
    "\n",
    "<img src = \"min_max_normalisation.jpg\" width='400'>\n",
    "     "
   ]
  },
  {
   "cell_type": "markdown",
   "id": "7885b297",
   "metadata": {},
   "source": [
    "#### Chuẩn hóa 2 thuộc tính \"Age\" và \"Income\""
   ]
  },
  {
   "cell_type": "code",
   "execution_count": 16,
   "id": "7f714e78",
   "metadata": {
    "ExecuteTime": {
     "end_time": "2023-07-09T01:53:38.931358600Z",
     "start_time": "2023-07-09T01:53:38.474889600Z"
    }
   },
   "outputs": [],
   "source": [
    "df2 = df1.copy()"
   ]
  },
  {
   "cell_type": "code",
   "execution_count": 17,
   "id": "d263db9c",
   "metadata": {
    "ExecuteTime": {
     "end_time": "2023-07-09T01:53:38.931358600Z",
     "start_time": "2023-07-09T01:53:38.478400600Z"
    }
   },
   "outputs": [],
   "source": [
    "age_min = df2['Age'].min()\n",
    "age_max = df2['Age'].max()\n",
    "\n",
    "income_min = df2['Income'].min()\n",
    "income_max = df2['Income'].max()"
   ]
  },
  {
   "cell_type": "markdown",
   "id": "533b6b20",
   "metadata": {},
   "source": [
    "    *Note: - min(): Hàm lấy GTNN\n",
    "           - max(): Hàm lấy GTLN"
   ]
  },
  {
   "cell_type": "code",
   "execution_count": 18,
   "id": "2be798bb",
   "metadata": {
    "ExecuteTime": {
     "end_time": "2023-07-09T01:53:38.932358100Z",
     "start_time": "2023-07-09T01:53:38.484562700Z"
    }
   },
   "outputs": [],
   "source": [
    "# Thực hiện chuẩn hóa theo minmax với 2 trường dữ liệu đã có\n",
    "df2['Age'] = (df2['Age'] - age_min)/(age_max - age_min)\n",
    "df2['Income'] = (df2['Income'] - income_min)/(income_max - income_min)"
   ]
  },
  {
   "cell_type": "markdown",
   "id": "60d7bda9",
   "metadata": {},
   "source": [
    "#### Kiểm tra lại dữ liệu sau khi chuẩn hóa"
   ]
  },
  {
   "cell_type": "code",
   "execution_count": 19,
   "id": "6802c726",
   "metadata": {
    "ExecuteTime": {
     "end_time": "2023-07-09T01:53:38.932358100Z",
     "start_time": "2023-07-09T01:53:38.489678600Z"
    }
   },
   "outputs": [
    {
     "data": {
      "text/plain": "   Region       Age    Income Online Shopper\n0   India  0.739130  0.685714             No\n1  Brazil  0.000000  0.000000            Yes\n2     USA  0.130435  0.171429             No\n3  Brazil  0.478261  0.371429             No\n4     USA  0.565217  0.450786            Yes\n5  Brazil  0.347826  0.285714            Yes\n6  Brazil  0.521739  0.114286             No\n7   India  0.913043  0.885714            Yes\n8     USA  1.000000  1.000000             No\n9   India  0.434783  0.542857            Yes",
      "text/html": "<div>\n<style scoped>\n    .dataframe tbody tr th:only-of-type {\n        vertical-align: middle;\n    }\n\n    .dataframe tbody tr th {\n        vertical-align: top;\n    }\n\n    .dataframe thead th {\n        text-align: right;\n    }\n</style>\n<table border=\"1\" class=\"dataframe\">\n  <thead>\n    <tr style=\"text-align: right;\">\n      <th></th>\n      <th>Region</th>\n      <th>Age</th>\n      <th>Income</th>\n      <th>Online Shopper</th>\n    </tr>\n  </thead>\n  <tbody>\n    <tr>\n      <th>0</th>\n      <td>India</td>\n      <td>0.739130</td>\n      <td>0.685714</td>\n      <td>No</td>\n    </tr>\n    <tr>\n      <th>1</th>\n      <td>Brazil</td>\n      <td>0.000000</td>\n      <td>0.000000</td>\n      <td>Yes</td>\n    </tr>\n    <tr>\n      <th>2</th>\n      <td>USA</td>\n      <td>0.130435</td>\n      <td>0.171429</td>\n      <td>No</td>\n    </tr>\n    <tr>\n      <th>3</th>\n      <td>Brazil</td>\n      <td>0.478261</td>\n      <td>0.371429</td>\n      <td>No</td>\n    </tr>\n    <tr>\n      <th>4</th>\n      <td>USA</td>\n      <td>0.565217</td>\n      <td>0.450786</td>\n      <td>Yes</td>\n    </tr>\n    <tr>\n      <th>5</th>\n      <td>Brazil</td>\n      <td>0.347826</td>\n      <td>0.285714</td>\n      <td>Yes</td>\n    </tr>\n    <tr>\n      <th>6</th>\n      <td>Brazil</td>\n      <td>0.521739</td>\n      <td>0.114286</td>\n      <td>No</td>\n    </tr>\n    <tr>\n      <th>7</th>\n      <td>India</td>\n      <td>0.913043</td>\n      <td>0.885714</td>\n      <td>Yes</td>\n    </tr>\n    <tr>\n      <th>8</th>\n      <td>USA</td>\n      <td>1.000000</td>\n      <td>1.000000</td>\n      <td>No</td>\n    </tr>\n    <tr>\n      <th>9</th>\n      <td>India</td>\n      <td>0.434783</td>\n      <td>0.542857</td>\n      <td>Yes</td>\n    </tr>\n  </tbody>\n</table>\n</div>"
     },
     "execution_count": 19,
     "metadata": {},
     "output_type": "execute_result"
    }
   ],
   "source": [
    "df2"
   ]
  },
  {
   "cell_type": "markdown",
   "id": "517e3b94",
   "metadata": {},
   "source": [
    "### 2.3 Liên tục hóa dữ liệu"
   ]
  },
  {
   "cell_type": "code",
   "execution_count": 20,
   "id": "861e06ac",
   "metadata": {
    "ExecuteTime": {
     "end_time": "2023-07-09T01:53:38.932358100Z",
     "start_time": "2023-07-09T01:53:38.822560500Z"
    }
   },
   "outputs": [],
   "source": [
    "df3 = df2.copy()"
   ]
  },
  {
   "cell_type": "markdown",
   "id": "2c08978e",
   "metadata": {},
   "source": [
    "Kiểm tra các thông tin có trong trường \"Region\""
   ]
  },
  {
   "cell_type": "code",
   "execution_count": 21,
   "id": "88b7d959",
   "metadata": {
    "ExecuteTime": {
     "end_time": "2023-07-09T01:53:38.933358200Z",
     "start_time": "2023-07-09T01:53:38.822560500Z"
    }
   },
   "outputs": [
    {
     "data": {
      "text/plain": "array(['India', 'Brazil', 'USA'], dtype=object)"
     },
     "execution_count": 21,
     "metadata": {},
     "output_type": "execute_result"
    }
   ],
   "source": [
    "df3['Region'].unique()"
   ]
  },
  {
   "cell_type": "markdown",
   "id": "dc26e3cb",
   "metadata": {},
   "source": [
    "Note: unique() là hàm liệt kê các giá trị trong 1 trường dữ liệu mà không bao gồm các dữ liệu bị trùng lặp  \n",
    "\n",
    "Sau khi kiểm tra các dữ liệu, đưa trường \"Region\" về dạng One-Hot Encoder"
   ]
  },
  {
   "cell_type": "code",
   "execution_count": 22,
   "id": "e160ccb4",
   "metadata": {
    "ExecuteTime": {
     "end_time": "2023-07-09T01:53:38.933358200Z",
     "start_time": "2023-07-09T01:53:38.822560500Z"
    }
   },
   "outputs": [
    {
     "data": {
      "text/plain": "   Brazil  India    USA\n0   False   True  False\n1    True  False  False\n2   False  False   True\n3    True  False  False\n4   False  False   True\n5    True  False  False\n6    True  False  False\n7   False   True  False\n8   False  False   True\n9   False   True  False",
      "text/html": "<div>\n<style scoped>\n    .dataframe tbody tr th:only-of-type {\n        vertical-align: middle;\n    }\n\n    .dataframe tbody tr th {\n        vertical-align: top;\n    }\n\n    .dataframe thead th {\n        text-align: right;\n    }\n</style>\n<table border=\"1\" class=\"dataframe\">\n  <thead>\n    <tr style=\"text-align: right;\">\n      <th></th>\n      <th>Brazil</th>\n      <th>India</th>\n      <th>USA</th>\n    </tr>\n  </thead>\n  <tbody>\n    <tr>\n      <th>0</th>\n      <td>False</td>\n      <td>True</td>\n      <td>False</td>\n    </tr>\n    <tr>\n      <th>1</th>\n      <td>True</td>\n      <td>False</td>\n      <td>False</td>\n    </tr>\n    <tr>\n      <th>2</th>\n      <td>False</td>\n      <td>False</td>\n      <td>True</td>\n    </tr>\n    <tr>\n      <th>3</th>\n      <td>True</td>\n      <td>False</td>\n      <td>False</td>\n    </tr>\n    <tr>\n      <th>4</th>\n      <td>False</td>\n      <td>False</td>\n      <td>True</td>\n    </tr>\n    <tr>\n      <th>5</th>\n      <td>True</td>\n      <td>False</td>\n      <td>False</td>\n    </tr>\n    <tr>\n      <th>6</th>\n      <td>True</td>\n      <td>False</td>\n      <td>False</td>\n    </tr>\n    <tr>\n      <th>7</th>\n      <td>False</td>\n      <td>True</td>\n      <td>False</td>\n    </tr>\n    <tr>\n      <th>8</th>\n      <td>False</td>\n      <td>False</td>\n      <td>True</td>\n    </tr>\n    <tr>\n      <th>9</th>\n      <td>False</td>\n      <td>True</td>\n      <td>False</td>\n    </tr>\n  </tbody>\n</table>\n</div>"
     },
     "metadata": {},
     "output_type": "display_data"
    }
   ],
   "source": [
    "dummies = pd.get_dummies(df3['Region'])\n",
    "display(dummies)"
   ]
  },
  {
   "cell_type": "markdown",
   "id": "dda354f2",
   "metadata": {},
   "source": [
    "Thực hiện nối các trường dữ liệu ở dạng One-Hot với dữ liệu ban đầu"
   ]
  },
  {
   "cell_type": "code",
   "execution_count": 23,
   "id": "6db56882",
   "metadata": {
    "ExecuteTime": {
     "end_time": "2023-07-09T01:53:38.933358200Z",
     "start_time": "2023-07-09T01:53:38.822560500Z"
    }
   },
   "outputs": [
    {
     "data": {
      "text/plain": "        Age    Income Online Shopper  Brazil  India    USA\n0  0.739130  0.685714             No   False   True  False\n1  0.000000  0.000000            Yes    True  False  False\n2  0.130435  0.171429             No   False  False   True\n3  0.478261  0.371429             No    True  False  False\n4  0.565217  0.450786            Yes   False  False   True\n5  0.347826  0.285714            Yes    True  False  False\n6  0.521739  0.114286             No    True  False  False\n7  0.913043  0.885714            Yes   False   True  False\n8  1.000000  1.000000             No   False  False   True\n9  0.434783  0.542857            Yes   False   True  False",
      "text/html": "<div>\n<style scoped>\n    .dataframe tbody tr th:only-of-type {\n        vertical-align: middle;\n    }\n\n    .dataframe tbody tr th {\n        vertical-align: top;\n    }\n\n    .dataframe thead th {\n        text-align: right;\n    }\n</style>\n<table border=\"1\" class=\"dataframe\">\n  <thead>\n    <tr style=\"text-align: right;\">\n      <th></th>\n      <th>Age</th>\n      <th>Income</th>\n      <th>Online Shopper</th>\n      <th>Brazil</th>\n      <th>India</th>\n      <th>USA</th>\n    </tr>\n  </thead>\n  <tbody>\n    <tr>\n      <th>0</th>\n      <td>0.739130</td>\n      <td>0.685714</td>\n      <td>No</td>\n      <td>False</td>\n      <td>True</td>\n      <td>False</td>\n    </tr>\n    <tr>\n      <th>1</th>\n      <td>0.000000</td>\n      <td>0.000000</td>\n      <td>Yes</td>\n      <td>True</td>\n      <td>False</td>\n      <td>False</td>\n    </tr>\n    <tr>\n      <th>2</th>\n      <td>0.130435</td>\n      <td>0.171429</td>\n      <td>No</td>\n      <td>False</td>\n      <td>False</td>\n      <td>True</td>\n    </tr>\n    <tr>\n      <th>3</th>\n      <td>0.478261</td>\n      <td>0.371429</td>\n      <td>No</td>\n      <td>True</td>\n      <td>False</td>\n      <td>False</td>\n    </tr>\n    <tr>\n      <th>4</th>\n      <td>0.565217</td>\n      <td>0.450786</td>\n      <td>Yes</td>\n      <td>False</td>\n      <td>False</td>\n      <td>True</td>\n    </tr>\n    <tr>\n      <th>5</th>\n      <td>0.347826</td>\n      <td>0.285714</td>\n      <td>Yes</td>\n      <td>True</td>\n      <td>False</td>\n      <td>False</td>\n    </tr>\n    <tr>\n      <th>6</th>\n      <td>0.521739</td>\n      <td>0.114286</td>\n      <td>No</td>\n      <td>True</td>\n      <td>False</td>\n      <td>False</td>\n    </tr>\n    <tr>\n      <th>7</th>\n      <td>0.913043</td>\n      <td>0.885714</td>\n      <td>Yes</td>\n      <td>False</td>\n      <td>True</td>\n      <td>False</td>\n    </tr>\n    <tr>\n      <th>8</th>\n      <td>1.000000</td>\n      <td>1.000000</td>\n      <td>No</td>\n      <td>False</td>\n      <td>False</td>\n      <td>True</td>\n    </tr>\n    <tr>\n      <th>9</th>\n      <td>0.434783</td>\n      <td>0.542857</td>\n      <td>Yes</td>\n      <td>False</td>\n      <td>True</td>\n      <td>False</td>\n    </tr>\n  </tbody>\n</table>\n</div>"
     },
     "execution_count": 23,
     "metadata": {},
     "output_type": "execute_result"
    }
   ],
   "source": [
    "df3 = pd.concat([df3,dummies], axis=1)\n",
    "df3.drop('Region', axis=1, inplace=True)\n",
    "df3"
   ]
  },
  {
   "cell_type": "markdown",
   "id": "083bdcd0",
   "metadata": {},
   "source": [
    "### 2.4 Rời rạc hóa dữ liệu\n",
    "- Một số thuật toán phân loại chỉ chấp nhận các thuộc tính phân loại.\n",
    "- Giúp giảm kích thước dữ liệu\n",
    "- ..."
   ]
  },
  {
   "cell_type": "code",
   "execution_count": 24,
   "id": "23dc9e1f",
   "metadata": {
    "ExecuteTime": {
     "end_time": "2023-07-09T01:53:38.933358200Z",
     "start_time": "2023-07-09T01:53:38.823560300Z"
    }
   },
   "outputs": [],
   "source": [
    "df4 = df3.copy()"
   ]
  },
  {
   "cell_type": "code",
   "execution_count": 25,
   "id": "c597dd11",
   "metadata": {
    "ExecuteTime": {
     "end_time": "2023-07-09T01:53:38.934358Z",
     "start_time": "2023-07-09T01:53:38.823560300Z"
    }
   },
   "outputs": [
    {
     "data": {
      "text/plain": "        Age     Income Online Shopper  Brazil  India    USA\n0  0.739130       High             No   False   True  False\n1  0.000000   Very Low            Yes    True  False  False\n2  0.130435   Very Low             No   False  False   True\n3  0.478261        Low             No    True  False  False\n4  0.565217     Medium            Yes   False  False   True\n5  0.347826        Low            Yes    True  False  False\n6  0.521739   Very Low             No    True  False  False\n7  0.913043  Very High            Yes   False   True  False\n8  1.000000  Very High             No   False  False   True\n9  0.434783     Medium            Yes   False   True  False",
      "text/html": "<div>\n<style scoped>\n    .dataframe tbody tr th:only-of-type {\n        vertical-align: middle;\n    }\n\n    .dataframe tbody tr th {\n        vertical-align: top;\n    }\n\n    .dataframe thead th {\n        text-align: right;\n    }\n</style>\n<table border=\"1\" class=\"dataframe\">\n  <thead>\n    <tr style=\"text-align: right;\">\n      <th></th>\n      <th>Age</th>\n      <th>Income</th>\n      <th>Online Shopper</th>\n      <th>Brazil</th>\n      <th>India</th>\n      <th>USA</th>\n    </tr>\n  </thead>\n  <tbody>\n    <tr>\n      <th>0</th>\n      <td>0.739130</td>\n      <td>High</td>\n      <td>No</td>\n      <td>False</td>\n      <td>True</td>\n      <td>False</td>\n    </tr>\n    <tr>\n      <th>1</th>\n      <td>0.000000</td>\n      <td>Very Low</td>\n      <td>Yes</td>\n      <td>True</td>\n      <td>False</td>\n      <td>False</td>\n    </tr>\n    <tr>\n      <th>2</th>\n      <td>0.130435</td>\n      <td>Very Low</td>\n      <td>No</td>\n      <td>False</td>\n      <td>False</td>\n      <td>True</td>\n    </tr>\n    <tr>\n      <th>3</th>\n      <td>0.478261</td>\n      <td>Low</td>\n      <td>No</td>\n      <td>True</td>\n      <td>False</td>\n      <td>False</td>\n    </tr>\n    <tr>\n      <th>4</th>\n      <td>0.565217</td>\n      <td>Medium</td>\n      <td>Yes</td>\n      <td>False</td>\n      <td>False</td>\n      <td>True</td>\n    </tr>\n    <tr>\n      <th>5</th>\n      <td>0.347826</td>\n      <td>Low</td>\n      <td>Yes</td>\n      <td>True</td>\n      <td>False</td>\n      <td>False</td>\n    </tr>\n    <tr>\n      <th>6</th>\n      <td>0.521739</td>\n      <td>Very Low</td>\n      <td>No</td>\n      <td>True</td>\n      <td>False</td>\n      <td>False</td>\n    </tr>\n    <tr>\n      <th>7</th>\n      <td>0.913043</td>\n      <td>Very High</td>\n      <td>Yes</td>\n      <td>False</td>\n      <td>True</td>\n      <td>False</td>\n    </tr>\n    <tr>\n      <th>8</th>\n      <td>1.000000</td>\n      <td>Very High</td>\n      <td>No</td>\n      <td>False</td>\n      <td>False</td>\n      <td>True</td>\n    </tr>\n    <tr>\n      <th>9</th>\n      <td>0.434783</td>\n      <td>Medium</td>\n      <td>Yes</td>\n      <td>False</td>\n      <td>True</td>\n      <td>False</td>\n    </tr>\n  </tbody>\n</table>\n</div>"
     },
     "execution_count": 25,
     "metadata": {},
     "output_type": "execute_result"
    }
   ],
   "source": [
    "df4.Income = pd.cut(df4[\"Income\"],\n",
    "       bins=[-0.1, 0.2, 0.4, 0.6, 0.8, 1],\n",
    "       labels=[\"Very Low\", \"Low\", \"Medium\", \"High\", \"Very High\"])\n",
    "df4"
   ]
  },
  {
   "cell_type": "markdown",
   "id": "ed20f03a",
   "metadata": {},
   "source": [
    "- bins: là các khoảng cần rời rạc hóa\n",
    "- labels: là các nhãn gắn vào các khoảng tương ứng"
   ]
  },
  {
   "cell_type": "markdown",
   "id": "aeda5c12",
   "metadata": {},
   "source": [
    "## 3. Xây dựng mô hình hồi quy tuyến tính"
   ]
  },
  {
   "cell_type": "code",
   "execution_count": 26,
   "id": "a14d9888",
   "metadata": {
    "ExecuteTime": {
     "end_time": "2023-07-09T01:53:38.934358Z",
     "start_time": "2023-07-09T01:53:38.823560300Z"
    }
   },
   "outputs": [],
   "source": [
    "df5 = df3.copy()"
   ]
  },
  {
   "cell_type": "code",
   "execution_count": 27,
   "id": "ee14bfe8",
   "metadata": {
    "ExecuteTime": {
     "end_time": "2023-07-09T01:53:38.934358Z",
     "start_time": "2023-07-09T01:53:38.823560300Z"
    }
   },
   "outputs": [
    {
     "data": {
      "text/plain": "        Age    Income  Online Shopper  Brazil  India    USA\n0  0.739130  0.685714               0   False   True  False\n1  0.000000  0.000000               1    True  False  False\n2  0.130435  0.171429               0   False  False   True\n3  0.478261  0.371429               0    True  False  False\n4  0.565217  0.450786               1   False  False   True\n5  0.347826  0.285714               1    True  False  False\n6  0.521739  0.114286               0    True  False  False\n7  0.913043  0.885714               1   False   True  False\n8  1.000000  1.000000               0   False  False   True\n9  0.434783  0.542857               1   False   True  False",
      "text/html": "<div>\n<style scoped>\n    .dataframe tbody tr th:only-of-type {\n        vertical-align: middle;\n    }\n\n    .dataframe tbody tr th {\n        vertical-align: top;\n    }\n\n    .dataframe thead th {\n        text-align: right;\n    }\n</style>\n<table border=\"1\" class=\"dataframe\">\n  <thead>\n    <tr style=\"text-align: right;\">\n      <th></th>\n      <th>Age</th>\n      <th>Income</th>\n      <th>Online Shopper</th>\n      <th>Brazil</th>\n      <th>India</th>\n      <th>USA</th>\n    </tr>\n  </thead>\n  <tbody>\n    <tr>\n      <th>0</th>\n      <td>0.739130</td>\n      <td>0.685714</td>\n      <td>0</td>\n      <td>False</td>\n      <td>True</td>\n      <td>False</td>\n    </tr>\n    <tr>\n      <th>1</th>\n      <td>0.000000</td>\n      <td>0.000000</td>\n      <td>1</td>\n      <td>True</td>\n      <td>False</td>\n      <td>False</td>\n    </tr>\n    <tr>\n      <th>2</th>\n      <td>0.130435</td>\n      <td>0.171429</td>\n      <td>0</td>\n      <td>False</td>\n      <td>False</td>\n      <td>True</td>\n    </tr>\n    <tr>\n      <th>3</th>\n      <td>0.478261</td>\n      <td>0.371429</td>\n      <td>0</td>\n      <td>True</td>\n      <td>False</td>\n      <td>False</td>\n    </tr>\n    <tr>\n      <th>4</th>\n      <td>0.565217</td>\n      <td>0.450786</td>\n      <td>1</td>\n      <td>False</td>\n      <td>False</td>\n      <td>True</td>\n    </tr>\n    <tr>\n      <th>5</th>\n      <td>0.347826</td>\n      <td>0.285714</td>\n      <td>1</td>\n      <td>True</td>\n      <td>False</td>\n      <td>False</td>\n    </tr>\n    <tr>\n      <th>6</th>\n      <td>0.521739</td>\n      <td>0.114286</td>\n      <td>0</td>\n      <td>True</td>\n      <td>False</td>\n      <td>False</td>\n    </tr>\n    <tr>\n      <th>7</th>\n      <td>0.913043</td>\n      <td>0.885714</td>\n      <td>1</td>\n      <td>False</td>\n      <td>True</td>\n      <td>False</td>\n    </tr>\n    <tr>\n      <th>8</th>\n      <td>1.000000</td>\n      <td>1.000000</td>\n      <td>0</td>\n      <td>False</td>\n      <td>False</td>\n      <td>True</td>\n    </tr>\n    <tr>\n      <th>9</th>\n      <td>0.434783</td>\n      <td>0.542857</td>\n      <td>1</td>\n      <td>False</td>\n      <td>True</td>\n      <td>False</td>\n    </tr>\n  </tbody>\n</table>\n</div>"
     },
     "execution_count": 27,
     "metadata": {},
     "output_type": "execute_result"
    }
   ],
   "source": [
    "df5['Online Shopper'].replace({\"No\":0,\"Yes\":1},inplace=True)\n",
    "df5"
   ]
  },
  {
   "cell_type": "code",
   "execution_count": 28,
   "id": "4ea077c2",
   "metadata": {
    "ExecuteTime": {
     "end_time": "2023-07-09T01:53:38.934358Z",
     "start_time": "2023-07-09T01:53:38.823560300Z"
    }
   },
   "outputs": [
    {
     "data": {
      "text/plain": "        Age    Income  Brazil  India    USA\n0  0.739130  0.685714   False   True  False\n1  0.000000  0.000000    True  False  False\n2  0.130435  0.171429   False  False   True\n3  0.478261  0.371429    True  False  False\n4  0.565217  0.450786   False  False   True\n5  0.347826  0.285714    True  False  False\n6  0.521739  0.114286    True  False  False\n7  0.913043  0.885714   False   True  False\n8  1.000000  1.000000   False  False   True\n9  0.434783  0.542857   False   True  False",
      "text/html": "<div>\n<style scoped>\n    .dataframe tbody tr th:only-of-type {\n        vertical-align: middle;\n    }\n\n    .dataframe tbody tr th {\n        vertical-align: top;\n    }\n\n    .dataframe thead th {\n        text-align: right;\n    }\n</style>\n<table border=\"1\" class=\"dataframe\">\n  <thead>\n    <tr style=\"text-align: right;\">\n      <th></th>\n      <th>Age</th>\n      <th>Income</th>\n      <th>Brazil</th>\n      <th>India</th>\n      <th>USA</th>\n    </tr>\n  </thead>\n  <tbody>\n    <tr>\n      <th>0</th>\n      <td>0.739130</td>\n      <td>0.685714</td>\n      <td>False</td>\n      <td>True</td>\n      <td>False</td>\n    </tr>\n    <tr>\n      <th>1</th>\n      <td>0.000000</td>\n      <td>0.000000</td>\n      <td>True</td>\n      <td>False</td>\n      <td>False</td>\n    </tr>\n    <tr>\n      <th>2</th>\n      <td>0.130435</td>\n      <td>0.171429</td>\n      <td>False</td>\n      <td>False</td>\n      <td>True</td>\n    </tr>\n    <tr>\n      <th>3</th>\n      <td>0.478261</td>\n      <td>0.371429</td>\n      <td>True</td>\n      <td>False</td>\n      <td>False</td>\n    </tr>\n    <tr>\n      <th>4</th>\n      <td>0.565217</td>\n      <td>0.450786</td>\n      <td>False</td>\n      <td>False</td>\n      <td>True</td>\n    </tr>\n    <tr>\n      <th>5</th>\n      <td>0.347826</td>\n      <td>0.285714</td>\n      <td>True</td>\n      <td>False</td>\n      <td>False</td>\n    </tr>\n    <tr>\n      <th>6</th>\n      <td>0.521739</td>\n      <td>0.114286</td>\n      <td>True</td>\n      <td>False</td>\n      <td>False</td>\n    </tr>\n    <tr>\n      <th>7</th>\n      <td>0.913043</td>\n      <td>0.885714</td>\n      <td>False</td>\n      <td>True</td>\n      <td>False</td>\n    </tr>\n    <tr>\n      <th>8</th>\n      <td>1.000000</td>\n      <td>1.000000</td>\n      <td>False</td>\n      <td>False</td>\n      <td>True</td>\n    </tr>\n    <tr>\n      <th>9</th>\n      <td>0.434783</td>\n      <td>0.542857</td>\n      <td>False</td>\n      <td>True</td>\n      <td>False</td>\n    </tr>\n  </tbody>\n</table>\n</div>"
     },
     "metadata": {},
     "output_type": "display_data"
    },
    {
     "data": {
      "text/plain": "0    0\n1    1\n2    0\n3    0\n4    1\n5    1\n6    0\n7    1\n8    0\n9    1\nName: Online Shopper, dtype: int64"
     },
     "metadata": {},
     "output_type": "display_data"
    }
   ],
   "source": [
    "Train = df5.drop(\"Online Shopper\", axis=1)\n",
    "Test = df5[\"Online Shopper\"]\n",
    "display(Train)\n",
    "display(Test)"
   ]
  },
  {
   "cell_type": "code",
   "execution_count": 29,
   "id": "e36c0069",
   "metadata": {
    "scrolled": false,
    "ExecuteTime": {
     "end_time": "2023-07-09T01:53:38.934358Z",
     "start_time": "2023-07-09T01:53:38.824561200Z"
    }
   },
   "outputs": [],
   "source": [
    "tp = int(0.9 * len(Train)) #thread point\n",
    "\n",
    "X_train = Train[:tp]\n",
    "Y_train = Test[:tp]\n",
    "X_test = Train[tp:]\n",
    "Y_test = Test[tp:]"
   ]
  },
  {
   "cell_type": "code",
   "execution_count": 30,
   "id": "c7c086e4",
   "metadata": {
    "ExecuteTime": {
     "end_time": "2023-07-09T01:53:41.614885400Z",
     "start_time": "2023-07-09T01:53:38.824561200Z"
    }
   },
   "outputs": [],
   "source": [
    "from sklearn.linear_model import RidgeClassifier\n",
    "\n",
    "reg = RidgeClassifier().fit(X_train, Y_train)\n",
    "pred = reg.predict(X_test)"
   ]
  },
  {
   "cell_type": "code",
   "execution_count": 31,
   "id": "b563d580",
   "metadata": {
    "ExecuteTime": {
     "end_time": "2023-07-09T01:53:41.622469400Z",
     "start_time": "2023-07-09T01:53:41.615885700Z"
    }
   },
   "outputs": [
    {
     "data": {
      "text/plain": "1.0"
     },
     "execution_count": 31,
     "metadata": {},
     "output_type": "execute_result"
    }
   ],
   "source": [
    "reg.score(X_test,Y_test)"
   ]
  },
  {
   "cell_type": "code",
   "execution_count": 32,
   "id": "99eaf718",
   "metadata": {
    "ExecuteTime": {
     "end_time": "2023-07-09T01:53:41.629820Z",
     "start_time": "2023-07-09T01:53:41.623469900Z"
    }
   },
   "outputs": [
    {
     "data": {
      "text/plain": "   Test values  True value\n9            1           1",
      "text/html": "<div>\n<style scoped>\n    .dataframe tbody tr th:only-of-type {\n        vertical-align: middle;\n    }\n\n    .dataframe tbody tr th {\n        vertical-align: top;\n    }\n\n    .dataframe thead th {\n        text-align: right;\n    }\n</style>\n<table border=\"1\" class=\"dataframe\">\n  <thead>\n    <tr style=\"text-align: right;\">\n      <th></th>\n      <th>Test values</th>\n      <th>True value</th>\n    </tr>\n  </thead>\n  <tbody>\n    <tr>\n      <th>9</th>\n      <td>1</td>\n      <td>1</td>\n    </tr>\n  </tbody>\n</table>\n</div>"
     },
     "execution_count": 32,
     "metadata": {},
     "output_type": "execute_result"
    }
   ],
   "source": [
    "target_class = pd.DataFrame({'Test values': pred,'True value': Y_test})\n",
    "target_class"
   ]
  },
  {
   "cell_type": "code",
   "execution_count": 32,
   "id": "90dd10e0",
   "metadata": {
    "ExecuteTime": {
     "end_time": "2023-07-09T01:53:41.633664400Z",
     "start_time": "2023-07-09T01:53:41.631153800Z"
    }
   },
   "outputs": [],
   "source": []
  }
 ],
 "metadata": {
  "kernelspec": {
   "display_name": "Python 3 (ipykernel)",
   "language": "python",
   "name": "python3"
  },
  "language_info": {
   "codemirror_mode": {
    "name": "ipython",
    "version": 3
   },
   "file_extension": ".py",
   "mimetype": "text/x-python",
   "name": "python",
   "nbconvert_exporter": "python",
   "pygments_lexer": "ipython3",
   "version": "3.10.8"
  }
 },
 "nbformat": 4,
 "nbformat_minor": 5
}
