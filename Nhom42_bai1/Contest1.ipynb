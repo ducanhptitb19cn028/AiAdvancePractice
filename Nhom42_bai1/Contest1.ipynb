{
 "cells": [
  {
   "cell_type": "code",
   "execution_count": 9,
   "outputs": [],
   "source": [
    "import pandas as pd\n",
    "\n",
    "from sklearn.impute import SimpleImputer\n",
    "from sklearn.ensemble import GradientBoostingRegressor\n",
    "from sklearn.ensemble import RandomForestClassifier\n",
    "from sklearn.preprocessing import LabelEncoder\n",
    "from sklearn.feature_extraction.text import CountVectorizer\n",
    "from sklearn.naive_bayes import MultinomialNB"
   ],
   "metadata": {
    "collapsed": false,
    "ExecuteTime": {
     "end_time": "2023-07-17T14:55:26.595301700Z",
     "start_time": "2023-07-17T14:55:26.572924900Z"
    }
   }
  },
  {
   "cell_type": "markdown",
   "source": [
    "Fill mising value"
   ],
   "metadata": {
    "collapsed": false
   }
  },
  {
   "cell_type": "code",
   "execution_count": 10,
   "outputs": [
    {
     "data": {
      "text/plain": "     X1  X2  X3  X4  X5       X6      X7     X8     X9  X10  X11  Class\n0     1   1   0   0   0   6000.0  2250.0  265.0  360.0  0.8    1      0\n1     1   1   0   0   0   2958.0  2900.0  131.0  360.0  1.0    1      1\n2     1   1   2   0   0   6250.0  1695.0  210.0  360.0  1.0    1      1\n3     1   1   0   0   0   2083.0  3150.0  128.0  360.0  1.0    1      1\n4     1   0   0   0   0   4166.0     0.0   98.0  360.0  0.0    1      0\n..   ..  ..  ..  ..  ..      ...     ...    ...    ...  ...  ...    ...\n486   1   1   2   1   1   1875.0  1875.0   97.0  360.0  1.0    1      1\n487   1   1   2   0   0  11417.0  1126.0  225.0  360.0  1.0    2      1\n488   0   0   0   0   0   3237.0     0.0   30.0  360.0  1.0    2      1\n489   0   1   0   0   0  10047.0     0.0  148.7  240.0  1.0    1      1\n490   1   1   0   0   0  13650.0     0.0  148.7  360.0  1.0    2      1\n\n[491 rows x 12 columns]",
      "text/html": "<div>\n<style scoped>\n    .dataframe tbody tr th:only-of-type {\n        vertical-align: middle;\n    }\n\n    .dataframe tbody tr th {\n        vertical-align: top;\n    }\n\n    .dataframe thead th {\n        text-align: right;\n    }\n</style>\n<table border=\"1\" class=\"dataframe\">\n  <thead>\n    <tr style=\"text-align: right;\">\n      <th></th>\n      <th>X1</th>\n      <th>X2</th>\n      <th>X3</th>\n      <th>X4</th>\n      <th>X5</th>\n      <th>X6</th>\n      <th>X7</th>\n      <th>X8</th>\n      <th>X9</th>\n      <th>X10</th>\n      <th>X11</th>\n      <th>Class</th>\n    </tr>\n  </thead>\n  <tbody>\n    <tr>\n      <th>0</th>\n      <td>1</td>\n      <td>1</td>\n      <td>0</td>\n      <td>0</td>\n      <td>0</td>\n      <td>6000.0</td>\n      <td>2250.0</td>\n      <td>265.0</td>\n      <td>360.0</td>\n      <td>0.8</td>\n      <td>1</td>\n      <td>0</td>\n    </tr>\n    <tr>\n      <th>1</th>\n      <td>1</td>\n      <td>1</td>\n      <td>0</td>\n      <td>0</td>\n      <td>0</td>\n      <td>2958.0</td>\n      <td>2900.0</td>\n      <td>131.0</td>\n      <td>360.0</td>\n      <td>1.0</td>\n      <td>1</td>\n      <td>1</td>\n    </tr>\n    <tr>\n      <th>2</th>\n      <td>1</td>\n      <td>1</td>\n      <td>2</td>\n      <td>0</td>\n      <td>0</td>\n      <td>6250.0</td>\n      <td>1695.0</td>\n      <td>210.0</td>\n      <td>360.0</td>\n      <td>1.0</td>\n      <td>1</td>\n      <td>1</td>\n    </tr>\n    <tr>\n      <th>3</th>\n      <td>1</td>\n      <td>1</td>\n      <td>0</td>\n      <td>0</td>\n      <td>0</td>\n      <td>2083.0</td>\n      <td>3150.0</td>\n      <td>128.0</td>\n      <td>360.0</td>\n      <td>1.0</td>\n      <td>1</td>\n      <td>1</td>\n    </tr>\n    <tr>\n      <th>4</th>\n      <td>1</td>\n      <td>0</td>\n      <td>0</td>\n      <td>0</td>\n      <td>0</td>\n      <td>4166.0</td>\n      <td>0.0</td>\n      <td>98.0</td>\n      <td>360.0</td>\n      <td>0.0</td>\n      <td>1</td>\n      <td>0</td>\n    </tr>\n    <tr>\n      <th>...</th>\n      <td>...</td>\n      <td>...</td>\n      <td>...</td>\n      <td>...</td>\n      <td>...</td>\n      <td>...</td>\n      <td>...</td>\n      <td>...</td>\n      <td>...</td>\n      <td>...</td>\n      <td>...</td>\n      <td>...</td>\n    </tr>\n    <tr>\n      <th>486</th>\n      <td>1</td>\n      <td>1</td>\n      <td>2</td>\n      <td>1</td>\n      <td>1</td>\n      <td>1875.0</td>\n      <td>1875.0</td>\n      <td>97.0</td>\n      <td>360.0</td>\n      <td>1.0</td>\n      <td>1</td>\n      <td>1</td>\n    </tr>\n    <tr>\n      <th>487</th>\n      <td>1</td>\n      <td>1</td>\n      <td>2</td>\n      <td>0</td>\n      <td>0</td>\n      <td>11417.0</td>\n      <td>1126.0</td>\n      <td>225.0</td>\n      <td>360.0</td>\n      <td>1.0</td>\n      <td>2</td>\n      <td>1</td>\n    </tr>\n    <tr>\n      <th>488</th>\n      <td>0</td>\n      <td>0</td>\n      <td>0</td>\n      <td>0</td>\n      <td>0</td>\n      <td>3237.0</td>\n      <td>0.0</td>\n      <td>30.0</td>\n      <td>360.0</td>\n      <td>1.0</td>\n      <td>2</td>\n      <td>1</td>\n    </tr>\n    <tr>\n      <th>489</th>\n      <td>0</td>\n      <td>1</td>\n      <td>0</td>\n      <td>0</td>\n      <td>0</td>\n      <td>10047.0</td>\n      <td>0.0</td>\n      <td>148.7</td>\n      <td>240.0</td>\n      <td>1.0</td>\n      <td>1</td>\n      <td>1</td>\n    </tr>\n    <tr>\n      <th>490</th>\n      <td>1</td>\n      <td>1</td>\n      <td>0</td>\n      <td>0</td>\n      <td>0</td>\n      <td>13650.0</td>\n      <td>0.0</td>\n      <td>148.7</td>\n      <td>360.0</td>\n      <td>1.0</td>\n      <td>2</td>\n      <td>1</td>\n    </tr>\n  </tbody>\n</table>\n<p>491 rows × 12 columns</p>\n</div>"
     },
     "metadata": {},
     "output_type": "display_data"
    },
    {
     "data": {
      "text/plain": "     X1  X2  X3  X4  X5       X6      X7     X8     X9  X10  X11\n0     1   1   0   0   0   9083.0     0.0  228.0  360.0  1.0    1\n1     1   1   0   0   0   4310.0     0.0  130.0  360.0  0.8    1\n2     1   1   2   0   0   4167.0  1447.0  158.0  360.0  1.0    0\n3     0   0   0   0   0   2900.0     0.0   71.0  360.0  1.0    0\n4     1   0   0   0   0   2718.0     0.0   70.0  360.0  1.0    1\n..   ..  ..  ..  ..  ..      ...     ...    ...    ...  ...  ...\n118   1   1   0   0   0   3716.0     0.0   42.0  180.0  1.0    0\n119   0   0   0   0   0   2507.0     0.0   56.0  360.0  1.0    0\n120   1   1   1   0   0   2882.0  1843.0  123.0  480.0  1.0    1\n121   1   1   2   0   0   2500.0  1840.0  109.0  360.0  1.0    2\n122   1   1   0   0   0  63337.0     0.0  490.0  180.0  1.0    2\n\n[123 rows x 11 columns]",
      "text/html": "<div>\n<style scoped>\n    .dataframe tbody tr th:only-of-type {\n        vertical-align: middle;\n    }\n\n    .dataframe tbody tr th {\n        vertical-align: top;\n    }\n\n    .dataframe thead th {\n        text-align: right;\n    }\n</style>\n<table border=\"1\" class=\"dataframe\">\n  <thead>\n    <tr style=\"text-align: right;\">\n      <th></th>\n      <th>X1</th>\n      <th>X2</th>\n      <th>X3</th>\n      <th>X4</th>\n      <th>X5</th>\n      <th>X6</th>\n      <th>X7</th>\n      <th>X8</th>\n      <th>X9</th>\n      <th>X10</th>\n      <th>X11</th>\n    </tr>\n  </thead>\n  <tbody>\n    <tr>\n      <th>0</th>\n      <td>1</td>\n      <td>1</td>\n      <td>0</td>\n      <td>0</td>\n      <td>0</td>\n      <td>9083.0</td>\n      <td>0.0</td>\n      <td>228.0</td>\n      <td>360.0</td>\n      <td>1.0</td>\n      <td>1</td>\n    </tr>\n    <tr>\n      <th>1</th>\n      <td>1</td>\n      <td>1</td>\n      <td>0</td>\n      <td>0</td>\n      <td>0</td>\n      <td>4310.0</td>\n      <td>0.0</td>\n      <td>130.0</td>\n      <td>360.0</td>\n      <td>0.8</td>\n      <td>1</td>\n    </tr>\n    <tr>\n      <th>2</th>\n      <td>1</td>\n      <td>1</td>\n      <td>2</td>\n      <td>0</td>\n      <td>0</td>\n      <td>4167.0</td>\n      <td>1447.0</td>\n      <td>158.0</td>\n      <td>360.0</td>\n      <td>1.0</td>\n      <td>0</td>\n    </tr>\n    <tr>\n      <th>3</th>\n      <td>0</td>\n      <td>0</td>\n      <td>0</td>\n      <td>0</td>\n      <td>0</td>\n      <td>2900.0</td>\n      <td>0.0</td>\n      <td>71.0</td>\n      <td>360.0</td>\n      <td>1.0</td>\n      <td>0</td>\n    </tr>\n    <tr>\n      <th>4</th>\n      <td>1</td>\n      <td>0</td>\n      <td>0</td>\n      <td>0</td>\n      <td>0</td>\n      <td>2718.0</td>\n      <td>0.0</td>\n      <td>70.0</td>\n      <td>360.0</td>\n      <td>1.0</td>\n      <td>1</td>\n    </tr>\n    <tr>\n      <th>...</th>\n      <td>...</td>\n      <td>...</td>\n      <td>...</td>\n      <td>...</td>\n      <td>...</td>\n      <td>...</td>\n      <td>...</td>\n      <td>...</td>\n      <td>...</td>\n      <td>...</td>\n      <td>...</td>\n    </tr>\n    <tr>\n      <th>118</th>\n      <td>1</td>\n      <td>1</td>\n      <td>0</td>\n      <td>0</td>\n      <td>0</td>\n      <td>3716.0</td>\n      <td>0.0</td>\n      <td>42.0</td>\n      <td>180.0</td>\n      <td>1.0</td>\n      <td>0</td>\n    </tr>\n    <tr>\n      <th>119</th>\n      <td>0</td>\n      <td>0</td>\n      <td>0</td>\n      <td>0</td>\n      <td>0</td>\n      <td>2507.0</td>\n      <td>0.0</td>\n      <td>56.0</td>\n      <td>360.0</td>\n      <td>1.0</td>\n      <td>0</td>\n    </tr>\n    <tr>\n      <th>120</th>\n      <td>1</td>\n      <td>1</td>\n      <td>1</td>\n      <td>0</td>\n      <td>0</td>\n      <td>2882.0</td>\n      <td>1843.0</td>\n      <td>123.0</td>\n      <td>480.0</td>\n      <td>1.0</td>\n      <td>1</td>\n    </tr>\n    <tr>\n      <th>121</th>\n      <td>1</td>\n      <td>1</td>\n      <td>2</td>\n      <td>0</td>\n      <td>0</td>\n      <td>2500.0</td>\n      <td>1840.0</td>\n      <td>109.0</td>\n      <td>360.0</td>\n      <td>1.0</td>\n      <td>2</td>\n    </tr>\n    <tr>\n      <th>122</th>\n      <td>1</td>\n      <td>1</td>\n      <td>0</td>\n      <td>0</td>\n      <td>0</td>\n      <td>63337.0</td>\n      <td>0.0</td>\n      <td>490.0</td>\n      <td>180.0</td>\n      <td>1.0</td>\n      <td>2</td>\n    </tr>\n  </tbody>\n</table>\n<p>123 rows × 11 columns</p>\n</div>"
     },
     "metadata": {},
     "output_type": "display_data"
    }
   ],
   "source": [
    "train_data = pd.read_csv('Train_samsung.csv')\n",
    "\n",
    "\n",
    "def imputing_data(data):\n",
    "    numeric_columns = data.select_dtypes(include='number').columns\n",
    "    categorical_columns = data.select_dtypes(exclude='number').columns\n",
    "\n",
    "    imputer_numeric = SimpleImputer(strategy='mean')\n",
    "    imputer_categorical = SimpleImputer(strategy='most_frequent')\n",
    "\n",
    "    data[numeric_columns] = imputer_numeric.fit_transform(data[numeric_columns])\n",
    "    data[categorical_columns] = imputer_categorical.fit_transform(data[categorical_columns])\n",
    "\n",
    "    label_encoder = LabelEncoder()\n",
    "    for column in categorical_columns:\n",
    "        data[column] = label_encoder.fit_transform(data[column])\n",
    "\n",
    "    data[numeric_columns] = data[numeric_columns].round(1)\n",
    "\n",
    "    return data\n",
    "\n",
    "\n",
    "imputing_data(train_data)\n",
    "display(train_data)\n",
    "\n",
    "# header = ','.join(train_data.columns)\n",
    "# train_data.to_csv('Filled_train.csv', index=False, header=header)\n",
    "\n",
    "raw_test_data = pd.read_csv('Test_samsung_noclass.csv')\n",
    "imputing_data(raw_test_data)\n",
    "display(raw_test_data)\n",
    "#\n",
    "# header2 = ','.join(raw_test_data.columns)\n",
    "# raw_test_data.to_csv('Filled_test.csv', index=False, header=header2)\n"
   ],
   "metadata": {
    "collapsed": false,
    "ExecuteTime": {
     "end_time": "2023-07-17T14:55:26.631863600Z",
     "start_time": "2023-07-17T14:55:26.580313300Z"
    }
   }
  },
  {
   "cell_type": "markdown",
   "source": [
    "Separating features and labels"
   ],
   "metadata": {
    "collapsed": false
   }
  },
  {
   "cell_type": "code",
   "execution_count": 11,
   "outputs": [
    {
     "data": {
      "text/plain": "(     X1  X2  X3  X4  X5       X6      X7     X8     X9  X10  X11\n 0     1   1   0   0   0   6000.0  2250.0  265.0  360.0  0.8    1\n 1     1   1   0   0   0   2958.0  2900.0  131.0  360.0  1.0    1\n 2     1   1   2   0   0   6250.0  1695.0  210.0  360.0  1.0    1\n 3     1   1   0   0   0   2083.0  3150.0  128.0  360.0  1.0    1\n 4     1   0   0   0   0   4166.0     0.0   98.0  360.0  0.0    1\n ..   ..  ..  ..  ..  ..      ...     ...    ...    ...  ...  ...\n 486   1   1   2   1   1   1875.0  1875.0   97.0  360.0  1.0    1\n 487   1   1   2   0   0  11417.0  1126.0  225.0  360.0  1.0    2\n 488   0   0   0   0   0   3237.0     0.0   30.0  360.0  1.0    2\n 489   0   1   0   0   0  10047.0     0.0  148.7  240.0  1.0    1\n 490   1   1   0   0   0  13650.0     0.0  148.7  360.0  1.0    2\n \n [491 rows x 11 columns],\n 0      0\n 1      1\n 2      1\n 3      1\n 4      0\n       ..\n 486    1\n 487    1\n 488    1\n 489    1\n 490    1\n Name: Class, Length: 491, dtype: int32)"
     },
     "execution_count": 11,
     "metadata": {},
     "output_type": "execute_result"
    }
   ],
   "source": [
    "# processed_data = pd.read_csv('Filled_train.csv')\n",
    "\n",
    "X_train = train_data.drop('Class', axis=1)\n",
    "y_train = train_data['Class']\n",
    "\n",
    "X_train, y_train"
   ],
   "metadata": {
    "collapsed": false,
    "ExecuteTime": {
     "end_time": "2023-07-17T14:55:26.644576500Z",
     "start_time": "2023-07-17T14:55:26.633866Z"
    }
   }
  },
  {
   "cell_type": "markdown",
   "source": [],
   "metadata": {
    "collapsed": false
   }
  },
  {
   "cell_type": "markdown",
   "source": [
    "Build discriminative model, Predict_test.csv is tested file with Class label"
   ],
   "metadata": {
    "collapsed": false
   }
  },
  {
   "cell_type": "code",
   "execution_count": 12,
   "outputs": [
    {
     "data": {
      "text/plain": "         X1   X2 X3        X4  X5       X6      X7     X8     X9  X10  X11  \\\n0      Male  Yes  0  Graduate  No   9083.0     0.0  228.0  360.0  1.0    1   \n1      Male  Yes  0  Graduate  No   4310.0     0.0  130.0  360.0  0.8    1   \n2      Male  Yes  2  Graduate  No   4167.0  1447.0  158.0  360.0  1.0    0   \n3    Female   No  0  Graduate  No   2900.0     0.0   71.0  360.0  1.0    0   \n4      Male   No  0  Graduate  No   2718.0     0.0   70.0  360.0  1.0    1   \n..      ...  ... ..       ...  ..      ...     ...    ...    ...  ...  ...   \n118    Male  Yes  0  Graduate  No   3716.0     0.0   42.0  180.0  1.0    0   \n119  Female   No  0  Graduate  No   2507.0     0.0   56.0  360.0  1.0    0   \n120    Male  Yes  1  Graduate  No   2882.0  1843.0  123.0  480.0  1.0    1   \n121    Male  Yes  2  Graduate  No   2500.0  1840.0  109.0  360.0  1.0    2   \n122    Male  Yes  0  Graduate  No  63337.0     0.0  490.0  180.0  1.0    2   \n\n    Class  \n0       Y  \n1       Y  \n2       Y  \n3       Y  \n4       Y  \n..    ...  \n118     Y  \n119     N  \n120     Y  \n121     Y  \n122     Y  \n\n[123 rows x 12 columns]",
      "text/html": "<div>\n<style scoped>\n    .dataframe tbody tr th:only-of-type {\n        vertical-align: middle;\n    }\n\n    .dataframe tbody tr th {\n        vertical-align: top;\n    }\n\n    .dataframe thead th {\n        text-align: right;\n    }\n</style>\n<table border=\"1\" class=\"dataframe\">\n  <thead>\n    <tr style=\"text-align: right;\">\n      <th></th>\n      <th>X1</th>\n      <th>X2</th>\n      <th>X3</th>\n      <th>X4</th>\n      <th>X5</th>\n      <th>X6</th>\n      <th>X7</th>\n      <th>X8</th>\n      <th>X9</th>\n      <th>X10</th>\n      <th>X11</th>\n      <th>Class</th>\n    </tr>\n  </thead>\n  <tbody>\n    <tr>\n      <th>0</th>\n      <td>Male</td>\n      <td>Yes</td>\n      <td>0</td>\n      <td>Graduate</td>\n      <td>No</td>\n      <td>9083.0</td>\n      <td>0.0</td>\n      <td>228.0</td>\n      <td>360.0</td>\n      <td>1.0</td>\n      <td>1</td>\n      <td>Y</td>\n    </tr>\n    <tr>\n      <th>1</th>\n      <td>Male</td>\n      <td>Yes</td>\n      <td>0</td>\n      <td>Graduate</td>\n      <td>No</td>\n      <td>4310.0</td>\n      <td>0.0</td>\n      <td>130.0</td>\n      <td>360.0</td>\n      <td>0.8</td>\n      <td>1</td>\n      <td>Y</td>\n    </tr>\n    <tr>\n      <th>2</th>\n      <td>Male</td>\n      <td>Yes</td>\n      <td>2</td>\n      <td>Graduate</td>\n      <td>No</td>\n      <td>4167.0</td>\n      <td>1447.0</td>\n      <td>158.0</td>\n      <td>360.0</td>\n      <td>1.0</td>\n      <td>0</td>\n      <td>Y</td>\n    </tr>\n    <tr>\n      <th>3</th>\n      <td>Female</td>\n      <td>No</td>\n      <td>0</td>\n      <td>Graduate</td>\n      <td>No</td>\n      <td>2900.0</td>\n      <td>0.0</td>\n      <td>71.0</td>\n      <td>360.0</td>\n      <td>1.0</td>\n      <td>0</td>\n      <td>Y</td>\n    </tr>\n    <tr>\n      <th>4</th>\n      <td>Male</td>\n      <td>No</td>\n      <td>0</td>\n      <td>Graduate</td>\n      <td>No</td>\n      <td>2718.0</td>\n      <td>0.0</td>\n      <td>70.0</td>\n      <td>360.0</td>\n      <td>1.0</td>\n      <td>1</td>\n      <td>Y</td>\n    </tr>\n    <tr>\n      <th>...</th>\n      <td>...</td>\n      <td>...</td>\n      <td>...</td>\n      <td>...</td>\n      <td>...</td>\n      <td>...</td>\n      <td>...</td>\n      <td>...</td>\n      <td>...</td>\n      <td>...</td>\n      <td>...</td>\n      <td>...</td>\n    </tr>\n    <tr>\n      <th>118</th>\n      <td>Male</td>\n      <td>Yes</td>\n      <td>0</td>\n      <td>Graduate</td>\n      <td>No</td>\n      <td>3716.0</td>\n      <td>0.0</td>\n      <td>42.0</td>\n      <td>180.0</td>\n      <td>1.0</td>\n      <td>0</td>\n      <td>Y</td>\n    </tr>\n    <tr>\n      <th>119</th>\n      <td>Female</td>\n      <td>No</td>\n      <td>0</td>\n      <td>Graduate</td>\n      <td>No</td>\n      <td>2507.0</td>\n      <td>0.0</td>\n      <td>56.0</td>\n      <td>360.0</td>\n      <td>1.0</td>\n      <td>0</td>\n      <td>N</td>\n    </tr>\n    <tr>\n      <th>120</th>\n      <td>Male</td>\n      <td>Yes</td>\n      <td>1</td>\n      <td>Graduate</td>\n      <td>No</td>\n      <td>2882.0</td>\n      <td>1843.0</td>\n      <td>123.0</td>\n      <td>480.0</td>\n      <td>1.0</td>\n      <td>1</td>\n      <td>Y</td>\n    </tr>\n    <tr>\n      <th>121</th>\n      <td>Male</td>\n      <td>Yes</td>\n      <td>2</td>\n      <td>Graduate</td>\n      <td>No</td>\n      <td>2500.0</td>\n      <td>1840.0</td>\n      <td>109.0</td>\n      <td>360.0</td>\n      <td>1.0</td>\n      <td>2</td>\n      <td>Y</td>\n    </tr>\n    <tr>\n      <th>122</th>\n      <td>Male</td>\n      <td>Yes</td>\n      <td>0</td>\n      <td>Graduate</td>\n      <td>No</td>\n      <td>63337.0</td>\n      <td>0.0</td>\n      <td>490.0</td>\n      <td>180.0</td>\n      <td>1.0</td>\n      <td>2</td>\n      <td>Y</td>\n    </tr>\n  </tbody>\n</table>\n<p>123 rows × 12 columns</p>\n</div>"
     },
     "execution_count": 12,
     "metadata": {},
     "output_type": "execute_result"
    }
   ],
   "source": [
    "# X_test = pd.read_csv('Filled_test.csv')\n",
    "X_test = raw_test_data.copy()\n",
    "\n",
    "model = RandomForestClassifier()\n",
    "model.fit(X_train, y_train)\n",
    "\n",
    "y_predict = model.predict(X_test)\n",
    "label_mapping = {0: 'N', 1: 'Y'}\n",
    "\n",
    "\n",
    "X_test[\"Class\"] = y_predict\n",
    "X_test[\"Class\"] = X_test[\"Class\"].replace(label_mapping)\n",
    "\n",
    "X1_mapping ={0:'Female', 1:'Male'}\n",
    "X_test[\"X1\"] = X_test[\"X1\"].replace(X1_mapping)\n",
    "\n",
    "X2_mapping ={0:'No', 1:'Yes'}\n",
    "X_test[\"X2\"] = X_test[\"X2\"].replace(X2_mapping)\n",
    "\n",
    "X3_mapping ={0:'0', 1:'1', 2:'2', 3:'3+'}\n",
    "X_test[\"X3\"] = X_test[\"X3\"].replace(X3_mapping)\n",
    "\n",
    "X4_mapping ={0:'Graduate', 1:'Not Graduate'}\n",
    "X_test[\"X4\"] = X_test[\"X4\"].replace(X4_mapping)\n",
    "\n",
    "X5_mapping ={0:'No', 1:'Yes'}\n",
    "X_test[\"X5\"] = X_test[\"X5\"].replace(X5_mapping)\n",
    "\n",
    "\n",
    "\n",
    "X_test.to_csv(\"Predict_test.csv\",)\n",
    "X_test\n"
   ],
   "metadata": {
    "collapsed": false,
    "ExecuteTime": {
     "end_time": "2023-07-17T14:55:26.875810900Z",
     "start_time": "2023-07-17T14:55:26.647576600Z"
    }
   }
  }
 ],
 "metadata": {
  "kernelspec": {
   "display_name": "Python 3",
   "language": "python",
   "name": "python3"
  },
  "language_info": {
   "codemirror_mode": {
    "name": "ipython",
    "version": 2
   },
   "file_extension": ".py",
   "mimetype": "text/x-python",
   "name": "python",
   "nbconvert_exporter": "python",
   "pygments_lexer": "ipython2",
   "version": "2.7.6"
  }
 },
 "nbformat": 4,
 "nbformat_minor": 0
}
