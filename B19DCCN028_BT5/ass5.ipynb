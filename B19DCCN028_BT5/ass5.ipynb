{
 "cells": [
  {
   "cell_type": "code",
   "execution_count": 16,
   "outputs": [],
   "source": [
    "pip install dpca\n"
   ],
   "metadata": {
    "collapsed": false
   }
  },
  {
   "cell_type": "code",
   "execution_count": null,
   "outputs": [],
   "source": [
    "import numpy as np\n",
    "import math\n",
    "import pandas as pd\n",
    "from sklearn.cluster import DBSCAN\n",
    "from sklearn import metrics\n",
    "import matplotlib.pyplot as plt\n",
    "from dpca import DensityPeakCluster\n",
    "import seaborn as sns\n",
    "import warnings"
   ],
   "metadata": {
    "collapsed": false
   }
  },
  {
   "cell_type": "code",
   "execution_count": null,
   "id": "f2d9e595",
   "metadata": {},
   "outputs": [],
   "source": [
    "#Doc file data\n",
    "data = pd.read_csv('countries.csv')\n",
    "data_arr = np.array(data)"
   ]
  },
  {
   "cell_type": "code",
   "execution_count": null,
   "id": "48659a4b",
   "metadata": {},
   "outputs": [],
   "source": [
    "data.columns.tolist()"
   ]
  },
  {
   "cell_type": "code",
   "execution_count": null,
   "id": "e2c574e0",
   "metadata": {},
   "outputs": [],
   "source": [
    "import matplotlib.pyplot as plt\n",
    "\n",
    "# Giả sử bạn có dữ liệu về các quốc gia và tọa độ lat, lon tương ứng\n",
    "countries = data['country']\n",
    "latitudes = data['latitude']\n",
    "longitudes = data['longitude']\n",
    "\n",
    "# Vẽ bản đồ\n",
    "plt.figure(figsize=(10, 6))\n",
    "plt.scatter(longitudes, latitudes, marker='o', color='blue')\n",
    "\n",
    "for i, country in enumerate(countries):\n",
    "    plt.annotate(country, (longitudes[i], latitudes[i]))\n",
    "\n",
    "plt.xlabel('Longitude')\n",
    "plt.ylabel('Latitude')\n",
    "plt.title('World Map with Country Coordinates')\n",
    "plt.grid(True)\n",
    "plt.show()\n"
   ]
  },
  {
   "cell_type": "markdown",
   "id": "a50c9eb3",
   "metadata": {},
   "source": [
    "# 1.K-MEAN"
   ]
  },
  {
   "cell_type": "code",
   "execution_count": 17,
   "id": "6031fa0e",
   "metadata": {},
   "outputs": [],
   "source": [
    "da = data[data.isna().any(axis=1)]\n",
    "da"
   ]
  },
  {
   "cell_type": "code",
   "execution_count": 18,
   "id": "1c178070",
   "metadata": {},
   "outputs": [],
   "source": [
    "file = \"aggregation\""
   ]
  },
  {
   "cell_type": "code",
   "execution_count": 19,
   "id": "3209c041",
   "metadata": {},
   "outputs": [],
   "source": [
    "data['latitude'].fillna(round(data['latitude'].mean()), inplace=True)\n",
    "data['longitude'].fillna(round(data['longitude'].mean()), inplace=True)\n",
    "data['country'].fillna(data['country'].mode()[0], inplace = True)"
   ]
  },
  {
   "cell_type": "code",
   "execution_count": 20,
   "id": "504d4b59",
   "metadata": {},
   "outputs": [],
   "source": [
    "from sklearn.cluster import KMeans\n",
    "kmeans = KMeans(n_clusters = 3)\n",
    "y_pred = kmeans.fit_predict(data.iloc[:,[1, 2]])\n",
    "centers=kmeans.cluster_centers_\n"
   ]
  },
  {
   "cell_type": "code",
   "execution_count": 21,
   "id": "2cd71bda",
   "metadata": {},
   "outputs": [],
   "source": [
    "# Show kết quả phân cụm\n",
    "plt.figure(figsize=(20,12))\n",
    "plt.scatter(\n",
    "    data_arr[:, 1], data_arr[:, 2],\n",
    "    c=y_pred, marker='o',\n",
    "    edgecolor='black', s=200\n",
    ")\n",
    "plt.xlabel(\"X\", fontsize=20)\n",
    "plt.ylabel(\"Y\", fontsize=20)\n",
    "plt.scatter(centers[:, 0], centers[:, 1], c='red',s=300)\n",
    "plt.title(file + \" KMeans\", fontsize=40)\n",
    "plt.show()"
   ]
  },
  {
   "cell_type": "markdown",
   "id": "d91c1535",
   "metadata": {},
   "source": [
    "# 2.DBSCAN"
   ]
  },
  {
   "cell_type": "code",
   "execution_count": 22,
   "id": "d6870720",
   "metadata": {},
   "outputs": [],
   "source": [
    "def calculate_kn_distance(X,k):\n",
    "\n",
    "    kn_distance = []\n",
    "    for i in range(len(X)):\n",
    "        eucl_dist = []\n",
    "        for j in range(len(X)):\n",
    "            eucl_dist.append(\n",
    "                math.sqrt(\n",
    "                    ((X[i,1] - X[j,1]) ** 2) +\n",
    "                    ((X[i,2] - X[j,2]) ** 2)))\n",
    "            \n",
    "        eucl_dist.sort()\n",
    "        kn_distance.append(eucl_dist[k])\n",
    "\n",
    "    return kn_distance\n",
    "eps_dist = calculate_kn_distance(data_arr, 5)"
   ]
  },
  {
   "cell_type": "code",
   "execution_count": 23,
   "id": "c9290d5f",
   "metadata": {},
   "outputs": [],
   "source": [
    "\n",
    "data_df = pd.DataFrame({'': eps_dist})\n",
    "\n",
    "sns.histplot(x='', data=data_df, kde=True, color='orange')\n",
    "\n",
    "plt.ylabel('n')\n",
    "plt.xlabel('Epsilon distance')\n",
    "\n",
    "plt.show()"
   ]
  },
  {
   "cell_type": "markdown",
   "id": "c26309b8",
   "metadata": {},
   "source": [
    "# 3.DPC"
   ]
  },
  {
   "cell_type": "code",
   "execution_count": null,
   "id": "4c42c99a",
   "metadata": {},
   "outputs": [],
   "source": [
    "dpca = DensityPeakCluster(distance_threshold=5, anormal=False)\n",
    "dpca.fit(data.iloc[:,[1,2]])"
   ]
  },
  {
   "cell_type": "code",
   "execution_count": null,
   "id": "eca01514",
   "metadata": {},
   "outputs": [],
   "source": [
    "rho = dpca.local_density()\n",
    "delta, nneigh = dpca.min_neighbor_and_distance()\n",
    "labels, center = dpca.collapse()\n",
    "\n"
   ]
  },
  {
   "cell_type": "code",
   "execution_count": null,
   "id": "c73cf296",
   "metadata": {},
   "outputs": [],
   "source": [
    "plt.figure(figsize=(20,12))\n",
    "plt.scatter(\n",
    "    rho,delta,\n",
    "    c=labels, marker='o',\n",
    "    edgecolor='black', s=200\n",
    ")\n",
    "plt.xlabel(\"Density\", fontsize=20)\n",
    "plt.ylabel(\"Distance\", fontsize=20)\n",
    "plt.title(file + \" Decision graph\", fontsize=40)\n",
    "plt.show()"
   ]
  },
  {
   "cell_type": "code",
   "execution_count": null,
   "id": "0ce2bc29",
   "metadata": {},
   "outputs": [],
   "source": [
    "plt.figure(figsize=(20,12))\n",
    "plt.scatter(\n",
    "    data_arr[:,1],data_arr[:,2],\n",
    "    c=labels, marker='o',\n",
    "    edgecolor='black', s=200\n",
    ")\n",
    "plt.xlabel(\"X\", fontsize=20)\n",
    "plt.ylabel(\"Y\", fontsize=20)\n",
    "plt.title(file + \" DPC\", fontsize=40)\n",
    "plt.show()"
   ]
  },
  {
   "cell_type": "markdown",
   "id": "5183fdc9",
   "metadata": {},
   "source": [
    "# 4. NHẬN XÉT"
   ]
  },
  {
   "cell_type": "markdown",
   "id": "2d6e35ed",
   "metadata": {},
   "source": [
    "K-Means là phương pháp đơn giản và hiệu quả khi làm việc với dữ liệu có cấu trúc và cụm có hình cầu, nhưng không thể xử lý dữ "
   ]
  },
  {
   "cell_type": "markdown",
   "id": "911aa820",
   "metadata": {},
   "source": [
    "DBSCAN là một lựa chọn tốt khi số lượng cụm không được biết trước và có thể xử lý dữ liệu phi cấu trúc, nhưng có thể không thể xử lý được các cụm có hình dạng phức tạp."
   ]
  },
  {
   "cell_type": "markdown",
   "id": "0cfb7942",
   "metadata": {},
   "source": [
    "DPC là sự cải tiến của DBSCAN và có khả năng phát hiện các cụm có hình dạng phức tạp và xử lý dữ liệu nhiễu. Tuy nhiên, nó đòi hỏi định cấu hình tham số chính xác."
   ]
  },
  {
   "cell_type": "code",
   "execution_count": null,
   "id": "c191215b",
   "metadata": {},
   "outputs": [],
   "source": []
  }
 ],
 "metadata": {
  "kernelspec": {
   "display_name": "Python 3 (ipykernel)",
   "language": "python",
   "name": "python3"
  },
  "language_info": {
   "codemirror_mode": {
    "name": "ipython",
    "version": 3
   },
   "file_extension": ".py",
   "mimetype": "text/x-python",
   "name": "python",
   "nbconvert_exporter": "python",
   "pygments_lexer": "ipython3",
   "version": "3.11.3"
  }
 },
 "nbformat": 4,
 "nbformat_minor": 5
}
