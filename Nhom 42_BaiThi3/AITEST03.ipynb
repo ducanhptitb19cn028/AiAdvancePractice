{
 "cells": [
  {
   "cell_type": "code",
   "execution_count": 2,
   "id": "11cd51d3",
   "metadata": {
    "ExecuteTime": {
     "end_time": "2023-08-07T14:46:06.915986900Z",
     "start_time": "2023-08-07T14:46:06.806290100Z"
    }
   },
   "outputs": [],
   "source": [
    "import gym\n",
    "import pickle,os\n",
    "import numpy as np\n",
    "import random\n",
    "from tqdm import tqdm\n",
    "from tqdm.notebook import trange\n",
    "\n"
   ]
  },
  {
   "cell_type": "code",
   "execution_count": 3,
   "id": "3cdd9333",
   "metadata": {
    "ExecuteTime": {
     "end_time": "2023-08-07T14:46:06.943124500Z",
     "start_time": "2023-08-07T14:46:06.917986800Z"
    }
   },
   "outputs": [
    {
     "data": {
      "text/plain": "<TimeLimit<OrderEnforcing<PassiveEnvChecker<TaxiEnv<Taxi-v3>>>>>"
     },
     "execution_count": 3,
     "metadata": {},
     "output_type": "execute_result"
    }
   ],
   "source": [
    "env=gym.make('Taxi-v3',render_mode='rgb_array')\n",
    "env"
   ]
  },
  {
   "cell_type": "code",
   "execution_count": 4,
   "id": "32785af0",
   "metadata": {
    "ExecuteTime": {
     "end_time": "2023-08-07T14:46:06.945129600Z",
     "start_time": "2023-08-07T14:46:06.939625400Z"
    }
   },
   "outputs": [
    {
     "data": {
      "text/plain": "(247, {'prob': 1.0, 'action_mask': array([1, 1, 1, 1, 0, 0], dtype=int8)})"
     },
     "execution_count": 4,
     "metadata": {},
     "output_type": "execute_result"
    }
   ],
   "source": [
    "state=env.reset()\n",
    "state"
   ]
  },
  {
   "cell_type": "code",
   "execution_count": 5,
   "id": "771a5da8",
   "metadata": {
    "ExecuteTime": {
     "end_time": "2023-08-07T14:46:07.702092900Z",
     "start_time": "2023-08-07T14:46:06.948130400Z"
    }
   },
   "outputs": [
    {
     "data": {
      "text/plain": "array([[[110, 109, 106],\n        [110, 109, 106],\n        [124, 122, 122],\n        ...,\n        [108, 111, 109],\n        [108, 111, 109],\n        [118, 119, 119]],\n\n       [[110, 109, 106],\n        [110, 109, 106],\n        [124, 122, 122],\n        ...,\n        [108, 111, 109],\n        [108, 111, 109],\n        [118, 119, 119]],\n\n       [[114, 116, 115],\n        [114, 116, 115],\n        [126, 127, 126],\n        ...,\n        [112, 113, 111],\n        [112, 113, 111],\n        [118, 117, 115]],\n\n       ...,\n\n       [[116, 115, 116],\n        [116, 115, 116],\n        [106, 107, 108],\n        ...,\n        [113, 115, 114],\n        [113, 115, 114],\n        [117, 114, 117]],\n\n       [[116, 115, 116],\n        [116, 115, 116],\n        [106, 107, 108],\n        ...,\n        [113, 115, 114],\n        [113, 115, 114],\n        [117, 114, 117]],\n\n       [[115, 112, 112],\n        [115, 112, 112],\n        [119, 119, 117],\n        ...,\n        [123, 119, 118],\n        [123, 119, 118],\n        [114, 114, 117]]], dtype=uint8)"
     },
     "execution_count": 5,
     "metadata": {},
     "output_type": "execute_result"
    }
   ],
   "source": [
    "env.render()\n"
   ]
  },
  {
   "cell_type": "code",
   "execution_count": 6,
   "id": "a93bd0ab",
   "metadata": {
    "ExecuteTime": {
     "end_time": "2023-08-07T14:46:07.715514400Z",
     "start_time": "2023-08-07T14:46:07.698572Z"
    }
   },
   "outputs": [
    {
     "name": "stderr",
     "output_type": "stream",
     "text": [
      "C:\\Users\\ducan\\AppData\\Local\\Programs\\Python\\Python311\\Lib\\site-packages\\gym\\utils\\passive_env_checker.py:233: DeprecationWarning: `np.bool8` is a deprecated alias for `np.bool_`.  (Deprecated NumPy 1.24)\n",
      "  if not isinstance(terminated, (bool, np.bool8)):\n"
     ]
    },
    {
     "data": {
      "text/plain": "(147,\n -1,\n False,\n False,\n {'prob': 1.0, 'action_mask': array([1, 1, 1, 0, 0, 0], dtype=int8)})"
     },
     "execution_count": 6,
     "metadata": {},
     "output_type": "execute_result"
    }
   ],
   "source": [
    "env.step(1)"
   ]
  },
  {
   "cell_type": "code",
   "execution_count": 7,
   "id": "da3c7b1d",
   "metadata": {
    "ExecuteTime": {
     "end_time": "2023-08-07T14:46:07.721550600Z",
     "start_time": "2023-08-07T14:46:07.717511600Z"
    }
   },
   "outputs": [],
   "source": [
    "n_states=env.observation_space.n\n",
    "n_actions=env.action_space.n"
   ]
  },
  {
   "cell_type": "code",
   "execution_count": 8,
   "id": "453a303b",
   "metadata": {
    "ExecuteTime": {
     "end_time": "2023-08-07T14:46:07.730211700Z",
     "start_time": "2023-08-07T14:46:07.721550600Z"
    }
   },
   "outputs": [],
   "source": [
    "class Agent:\n",
    "    def __init__(self, env):\n",
    "        self.env = env\n",
    "        self.q_table = np.zeros([n_states,n_actions])\n",
    "        # self.q_table = np.load('q_table.npy')\n",
    "        self.alpha = 0.9\n",
    "        self.gamma = 0.8\n",
    "        self.epsilon = 0.6\n",
    "\n",
    "    def choose_action(self, state):\n",
    "        return np.argmax(self.q_table[state,:])\n",
    "\n",
    "    def learn(self, state, action, reward, next_state):\n",
    "        old_value = self.q_table[state, action]\n",
    "        next_max = np.max(self.q_table[next_state,:])\n",
    "        new_value = old_value + self.alpha * (reward + self.gamma * next_max - old_value)\n",
    "        self.q_table[state, action] = new_value\n"
   ]
  },
  {
   "cell_type": "code",
   "execution_count": 9,
   "id": "ef30aad3",
   "metadata": {
    "ExecuteTime": {
     "end_time": "2023-08-07T14:46:07.791508600Z",
     "start_time": "2023-08-07T14:46:07.729705600Z"
    }
   },
   "outputs": [],
   "source": [
    "score=[]\n",
    "agent=Agent(env)\n",
    "best_score = float('-inf')"
   ]
  },
  {
   "cell_type": "code",
   "execution_count": 10,
   "id": "12e33125",
   "metadata": {
    "ExecuteTime": {
     "end_time": "2023-08-07T14:46:07.815443400Z",
     "start_time": "2023-08-07T14:46:07.735223800Z"
    }
   },
   "outputs": [
    {
     "data": {
      "text/plain": "  0%|          | 0/2001 [00:00<?, ?it/s]",
      "application/vnd.jupyter.widget-view+json": {
       "version_major": 2,
       "version_minor": 0,
       "model_id": "2ca10c15699841f3883eb3ddfbf8763c"
      }
     },
     "metadata": {},
     "output_type": "display_data"
    },
    {
     "ename": "NameError",
     "evalue": "name 'next_state' is not defined",
     "output_type": "error",
     "traceback": [
      "\u001B[1;31m---------------------------------------------------------------------------\u001B[0m",
      "\u001B[1;31mNameError\u001B[0m                                 Traceback (most recent call last)",
      "Cell \u001B[1;32mIn[10], line 16\u001B[0m\n\u001B[0;32m     14\u001B[0m     action \u001B[38;5;241m=\u001B[39m agent\u001B[38;5;241m.\u001B[39mchoose_action(state)\n\u001B[0;32m     15\u001B[0m new_state,reward,done, info,_ \u001B[38;5;241m=\u001B[39m env\u001B[38;5;241m.\u001B[39mstep(action)\n\u001B[1;32m---> 16\u001B[0m agent\u001B[38;5;241m.\u001B[39mlearn(state, action, reward, \u001B[43mnext_state\u001B[49m)\n\u001B[0;32m     17\u001B[0m state\u001B[38;5;241m=\u001B[39mnew_state\n\u001B[0;32m     18\u001B[0m \u001B[38;5;28;01mif\u001B[39;00m done\u001B[38;5;241m==\u001B[39m\u001B[38;5;28;01mTrue\u001B[39;00m:\n",
      "\u001B[1;31mNameError\u001B[0m: name 'next_state' is not defined"
     ]
    }
   ],
   "source": [
    "max_steps=99\n",
    "episodes =2001\n",
    "decay_rate=0.005\n",
    "score=0\n",
    "num_episodes=1000\n",
    "for episode in trange(episodes):\n",
    "    state, info = env.reset()\n",
    "    done=False\n",
    "    score = 0\n",
    "    for i in range(max_steps):\n",
    "        if random.uniform(0, 1) < agent.epsilon:\n",
    "            action = agent.env.action_space.sample()\n",
    "        else:\n",
    "            action = agent.choose_action(state)\n",
    "        new_state,reward,done, info,_ = env.step(action)\n",
    "        agent.learn(state, action, reward, next_state)\n",
    "        state=new_state\n",
    "        if done==True:\n",
    "            break\n",
    "        agent.epsilon=np.exp(-decay_rate*episode)\n",
    "    if score>=best_score:\n",
    "        np.save('table.npy',agent.q_table)\n",
    "        best_score=score\n",
    "    \n",
    "    \n",
    "    \n",
    "    \n",
    "        \n",
    "        "
   ]
  },
  {
   "cell_type": "code",
   "execution_count": null,
   "id": "454b5b96",
   "metadata": {
    "ExecuteTime": {
     "start_time": "2023-08-07T14:46:07.812442100Z"
    }
   },
   "outputs": [],
   "source": []
  },
  {
   "cell_type": "code",
   "execution_count": null,
   "id": "7d132534",
   "metadata": {
    "ExecuteTime": {
     "start_time": "2023-08-07T14:46:07.813441600Z"
    }
   },
   "outputs": [],
   "source": []
  }
 ],
 "metadata": {
  "kernelspec": {
   "display_name": "Python 3 (ipykernel)",
   "language": "python",
   "name": "python3"
  },
  "language_info": {
   "codemirror_mode": {
    "name": "ipython",
    "version": 3
   },
   "file_extension": ".py",
   "mimetype": "text/x-python",
   "name": "python",
   "nbconvert_exporter": "python",
   "pygments_lexer": "ipython3",
   "version": "3.10.9"
  }
 },
 "nbformat": 4,
 "nbformat_minor": 5
}
