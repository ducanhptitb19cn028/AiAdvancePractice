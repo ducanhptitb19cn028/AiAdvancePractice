{
 "cells": [
  {
   "cell_type": "code",
   "execution_count": 24,
   "metadata": {
    "collapsed": true,
    "ExecuteTime": {
     "end_time": "2023-08-07T15:26:37.741625300Z",
     "start_time": "2023-08-07T15:26:37.702131300Z"
    }
   },
   "outputs": [
    {
     "ename": "IndexError",
     "evalue": "only integers, slices (`:`), ellipsis (`...`), numpy.newaxis (`None`) and integer or boolean arrays are valid indices",
     "output_type": "error",
     "traceback": [
      "\u001B[1;31m---------------------------------------------------------------------------\u001B[0m",
      "\u001B[1;31mIndexError\u001B[0m                                Traceback (most recent call last)",
      "Cell \u001B[1;32mIn[24], line 33\u001B[0m\n\u001B[0;32m     30\u001B[0m done \u001B[38;5;241m=\u001B[39m \u001B[38;5;28;01mFalse\u001B[39;00m\n\u001B[0;32m     32\u001B[0m \u001B[38;5;28;01mwhile\u001B[39;00m \u001B[38;5;129;01mnot\u001B[39;00m done:\n\u001B[1;32m---> 33\u001B[0m     action \u001B[38;5;241m=\u001B[39m \u001B[43mepsilon_greedy\u001B[49m\u001B[43m(\u001B[49m\u001B[43mstate\u001B[49m\u001B[43m,\u001B[49m\u001B[43m \u001B[49m\u001B[43mexploration_prob\u001B[49m\u001B[43m)\u001B[49m\n\u001B[0;32m     34\u001B[0m     next_state, reward, done, _ \u001B[38;5;241m=\u001B[39m env\u001B[38;5;241m.\u001B[39mstep(action)\n\u001B[0;32m     36\u001B[0m     Q[state, action] \u001B[38;5;241m=\u001B[39m (\u001B[38;5;241m1\u001B[39m \u001B[38;5;241m-\u001B[39m learning_rate) \u001B[38;5;241m*\u001B[39m Q[state, action] \u001B[38;5;241m+\u001B[39m \\\n\u001B[0;32m     37\u001B[0m                        learning_rate \u001B[38;5;241m*\u001B[39m (reward \u001B[38;5;241m+\u001B[39m discount_factor \u001B[38;5;241m*\u001B[39m np\u001B[38;5;241m.\u001B[39mmax(Q[next_state, :]))\n",
      "Cell \u001B[1;32mIn[24], line 21\u001B[0m, in \u001B[0;36mepsilon_greedy\u001B[1;34m(state, epsilon)\u001B[0m\n\u001B[0;32m     19\u001B[0m     \u001B[38;5;28;01mreturn\u001B[39;00m env\u001B[38;5;241m.\u001B[39maction_space\u001B[38;5;241m.\u001B[39msample()\n\u001B[0;32m     20\u001B[0m \u001B[38;5;28;01melse\u001B[39;00m:\n\u001B[1;32m---> 21\u001B[0m     optimal_actions \u001B[38;5;241m=\u001B[39m \u001B[43mstrategy\u001B[49m\u001B[43m(\u001B[49m\u001B[43mstate\u001B[49m\u001B[43m)\u001B[49m\n\u001B[0;32m     22\u001B[0m     \u001B[38;5;28;01mreturn\u001B[39;00m random\u001B[38;5;241m.\u001B[39mchoice(optimal_actions)\n",
      "Cell \u001B[1;32mIn[24], line 25\u001B[0m, in \u001B[0;36mstrategy\u001B[1;34m(state)\u001B[0m\n\u001B[0;32m     24\u001B[0m \u001B[38;5;28;01mdef\u001B[39;00m \u001B[38;5;21mstrategy\u001B[39m(state):\n\u001B[1;32m---> 25\u001B[0m     optimal_actions \u001B[38;5;241m=\u001B[39m np\u001B[38;5;241m.\u001B[39mwhere(\u001B[43mQ\u001B[49m\u001B[43m[\u001B[49m\u001B[43mstate\u001B[49m\u001B[43m,\u001B[49m\u001B[43m \u001B[49m\u001B[43m:\u001B[49m\u001B[43m]\u001B[49m \u001B[38;5;241m==\u001B[39m np\u001B[38;5;241m.\u001B[39mmax(Q[state, :]))[\u001B[38;5;241m0\u001B[39m]\n\u001B[0;32m     26\u001B[0m     \u001B[38;5;28;01mreturn\u001B[39;00m \u001B[38;5;28mlist\u001B[39m(optimal_actions)\n",
      "\u001B[1;31mIndexError\u001B[0m: only integers, slices (`:`), ellipsis (`...`), numpy.newaxis (`None`) and integer or boolean arrays are valid indices"
     ]
    }
   ],
   "source": [
    "import numpy as np\n",
    "import random\n",
    "import gym\n",
    "\n",
    "env = gym.make(\"Taxi-v3\")\n",
    "\n",
    "num_states = env.observation_space.n\n",
    "num_actions = env.action_space.n\n",
    "\n",
    "learning_rate = 0.1\n",
    "discount_factor = 0.99\n",
    "exploration_prob = 0.1\n",
    "num_episodes = 10000\n",
    "\n",
    "Q = np.zeros((num_states, num_actions))\n",
    "\n",
    "def epsilon_greedy(state, epsilon):\n",
    "    if random.uniform(0, 1) < epsilon:\n",
    "        return env.action_space.sample()\n",
    "    else:\n",
    "        optimal_actions = strategy(state)\n",
    "        return random.choice(optimal_actions)\n",
    "\n",
    "def strategy(state):\n",
    "    optimal_actions = np.where(Q[state, :] == np.max(Q[state, :]))[0]\n",
    "    return list(optimal_actions)\n",
    "\n",
    "for episode in range(num_episodes):\n",
    "    state = env.reset()\n",
    "    done = False\n",
    "    \n",
    "    while not done:\n",
    "        action = epsilon_greedy(state, exploration_prob)\n",
    "        next_state, reward, done, _ = env.step(action)\n",
    "        \n",
    "        Q[state, action] = (1 - learning_rate) * Q[state, action] + \\\n",
    "                           learning_rate * (reward + discount_factor * np.max(Q[next_state, :]))\n",
    "        \n",
    "        state = next_state\n",
    "\n",
    "example_state = 328\n",
    "actions = strategy(example_state)\n",
    "print(actions)\n"
   ]
  }
 ],
 "metadata": {
  "kernelspec": {
   "display_name": "Python 3",
   "language": "python",
   "name": "python3"
  },
  "language_info": {
   "codemirror_mode": {
    "name": "ipython",
    "version": 2
   },
   "file_extension": ".py",
   "mimetype": "text/x-python",
   "name": "python",
   "nbconvert_exporter": "python",
   "pygments_lexer": "ipython2",
   "version": "2.7.6"
  }
 },
 "nbformat": 4,
 "nbformat_minor": 0
}
