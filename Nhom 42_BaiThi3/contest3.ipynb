{
 "cells": [
  {
   "cell_type": "code",
   "execution_count": 19,
   "metadata": {
    "collapsed": true,
    "ExecuteTime": {
     "end_time": "2023-08-06T17:18:34.706887Z",
     "start_time": "2023-08-06T17:18:34.700303900Z"
    }
   },
   "outputs": [
    {
     "name": "stdout",
     "output_type": "stream",
     "text": [
      "[0, 1, 2, 3, 4, 5]\n"
     ]
    }
   ],
   "source": [
    "import numpy as np\n",
    "import random\n",
    "\n",
    "def strategy(taxi_row, taxi_col, passenger_location, destination):\n",
    "    # Define the mapping of actions\n",
    "    actions = {\n",
    "        0: 'south',\n",
    "        1: 'north',\n",
    "        2: 'east',\n",
    "        3: 'west',\n",
    "        4: 'pickup',\n",
    "        5: 'dropoff'\n",
    "    }\n",
    "\n",
    "    # Calculate the current state observation\n",
    "    current_state = taxi_row * 25 + taxi_col * 5 + passenger_location * 4 + destination\n",
    "\n",
    "    # Initialize the list of possible actions\n",
    "    possible_actions = []\n",
    "\n",
    "    # Add all actions to the possible_actions list initially\n",
    "    for action in actions.keys():\n",
    "        possible_actions.append(action)\n",
    "\n",
    "    # If passenger is in the taxi, remove pickup action\n",
    "    if passenger_location == 4:\n",
    "        possible_actions.remove(4)\n",
    "\n",
    "    # If taxi is at destination, remove dropoff action\n",
    "    if (taxi_row, taxi_col) == (0, 0) and destination == 0:\n",
    "        possible_actions.remove(5)\n",
    "\n",
    "    # If passenger is at the destination, remove pickup action\n",
    "    if passenger_location == destination:\n",
    "        possible_actions.remove(4)\n",
    "\n",
    "    # Return the list of possible actions\n",
    "    return possible_actions\n",
    "\n",
    "# Example usage\n",
    "taxi_row = 3\n",
    "taxi_col = 1\n",
    "passenger_location = 0  # R(ed)\n",
    "destination = 3  # Y(ellow)\n",
    "actions = strategy(taxi_row, taxi_col, passenger_location, destination)\n",
    "print(actions)  # This will print the list of possible actions\n"
   ]
  }
 ],
 "metadata": {
  "kernelspec": {
   "display_name": "Python 3",
   "language": "python",
   "name": "python3"
  },
  "language_info": {
   "codemirror_mode": {
    "name": "ipython",
    "version": 2
   },
   "file_extension": ".py",
   "mimetype": "text/x-python",
   "name": "python",
   "nbconvert_exporter": "python",
   "pygments_lexer": "ipython2",
   "version": "2.7.6"
  }
 },
 "nbformat": 4,
 "nbformat_minor": 0
}
