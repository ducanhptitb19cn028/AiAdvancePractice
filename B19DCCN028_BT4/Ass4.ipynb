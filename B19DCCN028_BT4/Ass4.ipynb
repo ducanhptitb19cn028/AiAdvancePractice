{
 "cells": [
  {
   "cell_type": "markdown",
   "source": [
    "Get data from file"
   ],
   "metadata": {
    "collapsed": false
   }
  },
  {
   "cell_type": "code",
   "execution_count": 5,
   "metadata": {
    "collapsed": true,
    "ExecuteTime": {
     "end_time": "2023-07-23T17:01:16.307676700Z",
     "start_time": "2023-07-23T17:01:16.293368500Z"
    }
   },
   "outputs": [],
   "source": [
    "import pandas as pd\n",
    "from sklearn.impute import SimpleImputer\n",
    "from sklearn.preprocessing import LabelEncoder\n",
    "\n",
    "# Đọc dữ liệu từ file csv\n",
    "data = pd.read_csv(\"Life Expectancy Data.csv\")"
   ]
  },
  {
   "cell_type": "markdown",
   "source": [
    "Fill nan data"
   ],
   "metadata": {
    "collapsed": false
   }
  },
  {
   "cell_type": "code",
   "execution_count": 6,
   "outputs": [
    {
     "data": {
      "text/plain": "      Country    Year  Status  Life expectancy   Adult Mortality  \\\n0           0  2015.0       1              65.0            263.0   \n1           0  2014.0       1              59.9            271.0   \n2           0  2013.0       1              59.9            268.0   \n3           0  2012.0       1              59.5            272.0   \n4           0  2011.0       1              59.2            275.0   \n...       ...     ...     ...               ...              ...   \n2933      192  2004.0       1              44.3            723.0   \n2934      192  2003.0       1              44.5            715.0   \n2935      192  2002.0       1              44.8             73.0   \n2936      192  2001.0       1              45.3            686.0   \n2937      192  2000.0       1              46.0            665.0   \n\n      infant deaths  Alcohol  percentage expenditure  Hepatitis B  Measles   \\\n0              62.0      0.0                    71.3         65.0    1154.0   \n1              64.0      0.0                    73.5         62.0     492.0   \n2              66.0      0.0                    73.2         64.0     430.0   \n3              69.0      0.0                    78.2         67.0    2787.0   \n4              71.0      0.0                     7.1         68.0    3013.0   \n...             ...      ...                     ...          ...       ...   \n2933           27.0      4.4                     0.0         68.0      31.0   \n2934           26.0      4.1                     0.0          7.0     998.0   \n2935           25.0      4.4                     0.0         73.0     304.0   \n2936           25.0      1.7                     0.0         76.0     529.0   \n2937           24.0      1.7                     0.0         79.0    1483.0   \n\n      ...  Polio  Total expenditure  Diphtheria    HIV/AIDS    GDP  \\\n0     ...    6.0                8.2         65.0        0.1  584.3   \n1     ...   58.0                8.2         62.0        0.1  612.7   \n2     ...   62.0                8.1         64.0        0.1  631.7   \n3     ...   67.0                8.5         67.0        0.1  670.0   \n4     ...   68.0                7.9         68.0        0.1   63.5   \n...   ...    ...                ...          ...        ...    ...   \n2933  ...   67.0                7.1         65.0       33.6  454.4   \n2934  ...    7.0                6.5         68.0       36.7  453.4   \n2935  ...   73.0                6.5         71.0       39.8   57.3   \n2936  ...   76.0                6.2         75.0       42.1  548.6   \n2937  ...   78.0                7.1         78.0       43.5  547.4   \n\n      Population   thinness  1-19 years   thinness 5-9 years  \\\n0     33736494.0                   17.2                 17.3   \n1       327582.0                   17.5                 17.5   \n2     31731688.0                   17.7                 17.7   \n3      3696958.0                   17.9                 18.0   \n4      2978599.0                   18.2                 18.2   \n...          ...                    ...                  ...   \n2933  12777511.0                    9.4                  9.4   \n2934  12633897.0                    9.8                  9.9   \n2935    125525.0                    1.2                  1.3   \n2936  12366165.0                    1.6                  1.7   \n2937  12222251.0                   11.0                 11.2   \n\n      Income composition of resources  Schooling  \n0                                 0.5       10.1  \n1                                 0.5       10.0  \n2                                 0.5        9.9  \n3                                 0.5        9.8  \n4                                 0.5        9.5  \n...                               ...        ...  \n2933                              0.4        9.2  \n2934                              0.4        9.5  \n2935                              0.4       10.0  \n2936                              0.4        9.8  \n2937                              0.4        9.8  \n\n[2938 rows x 22 columns]",
      "text/html": "<div>\n<style scoped>\n    .dataframe tbody tr th:only-of-type {\n        vertical-align: middle;\n    }\n\n    .dataframe tbody tr th {\n        vertical-align: top;\n    }\n\n    .dataframe thead th {\n        text-align: right;\n    }\n</style>\n<table border=\"1\" class=\"dataframe\">\n  <thead>\n    <tr style=\"text-align: right;\">\n      <th></th>\n      <th>Country</th>\n      <th>Year</th>\n      <th>Status</th>\n      <th>Life expectancy</th>\n      <th>Adult Mortality</th>\n      <th>infant deaths</th>\n      <th>Alcohol</th>\n      <th>percentage expenditure</th>\n      <th>Hepatitis B</th>\n      <th>Measles</th>\n      <th>...</th>\n      <th>Polio</th>\n      <th>Total expenditure</th>\n      <th>Diphtheria</th>\n      <th>HIV/AIDS</th>\n      <th>GDP</th>\n      <th>Population</th>\n      <th>thinness  1-19 years</th>\n      <th>thinness 5-9 years</th>\n      <th>Income composition of resources</th>\n      <th>Schooling</th>\n    </tr>\n  </thead>\n  <tbody>\n    <tr>\n      <th>0</th>\n      <td>0</td>\n      <td>2015.0</td>\n      <td>1</td>\n      <td>65.0</td>\n      <td>263.0</td>\n      <td>62.0</td>\n      <td>0.0</td>\n      <td>71.3</td>\n      <td>65.0</td>\n      <td>1154.0</td>\n      <td>...</td>\n      <td>6.0</td>\n      <td>8.2</td>\n      <td>65.0</td>\n      <td>0.1</td>\n      <td>584.3</td>\n      <td>33736494.0</td>\n      <td>17.2</td>\n      <td>17.3</td>\n      <td>0.5</td>\n      <td>10.1</td>\n    </tr>\n    <tr>\n      <th>1</th>\n      <td>0</td>\n      <td>2014.0</td>\n      <td>1</td>\n      <td>59.9</td>\n      <td>271.0</td>\n      <td>64.0</td>\n      <td>0.0</td>\n      <td>73.5</td>\n      <td>62.0</td>\n      <td>492.0</td>\n      <td>...</td>\n      <td>58.0</td>\n      <td>8.2</td>\n      <td>62.0</td>\n      <td>0.1</td>\n      <td>612.7</td>\n      <td>327582.0</td>\n      <td>17.5</td>\n      <td>17.5</td>\n      <td>0.5</td>\n      <td>10.0</td>\n    </tr>\n    <tr>\n      <th>2</th>\n      <td>0</td>\n      <td>2013.0</td>\n      <td>1</td>\n      <td>59.9</td>\n      <td>268.0</td>\n      <td>66.0</td>\n      <td>0.0</td>\n      <td>73.2</td>\n      <td>64.0</td>\n      <td>430.0</td>\n      <td>...</td>\n      <td>62.0</td>\n      <td>8.1</td>\n      <td>64.0</td>\n      <td>0.1</td>\n      <td>631.7</td>\n      <td>31731688.0</td>\n      <td>17.7</td>\n      <td>17.7</td>\n      <td>0.5</td>\n      <td>9.9</td>\n    </tr>\n    <tr>\n      <th>3</th>\n      <td>0</td>\n      <td>2012.0</td>\n      <td>1</td>\n      <td>59.5</td>\n      <td>272.0</td>\n      <td>69.0</td>\n      <td>0.0</td>\n      <td>78.2</td>\n      <td>67.0</td>\n      <td>2787.0</td>\n      <td>...</td>\n      <td>67.0</td>\n      <td>8.5</td>\n      <td>67.0</td>\n      <td>0.1</td>\n      <td>670.0</td>\n      <td>3696958.0</td>\n      <td>17.9</td>\n      <td>18.0</td>\n      <td>0.5</td>\n      <td>9.8</td>\n    </tr>\n    <tr>\n      <th>4</th>\n      <td>0</td>\n      <td>2011.0</td>\n      <td>1</td>\n      <td>59.2</td>\n      <td>275.0</td>\n      <td>71.0</td>\n      <td>0.0</td>\n      <td>7.1</td>\n      <td>68.0</td>\n      <td>3013.0</td>\n      <td>...</td>\n      <td>68.0</td>\n      <td>7.9</td>\n      <td>68.0</td>\n      <td>0.1</td>\n      <td>63.5</td>\n      <td>2978599.0</td>\n      <td>18.2</td>\n      <td>18.2</td>\n      <td>0.5</td>\n      <td>9.5</td>\n    </tr>\n    <tr>\n      <th>...</th>\n      <td>...</td>\n      <td>...</td>\n      <td>...</td>\n      <td>...</td>\n      <td>...</td>\n      <td>...</td>\n      <td>...</td>\n      <td>...</td>\n      <td>...</td>\n      <td>...</td>\n      <td>...</td>\n      <td>...</td>\n      <td>...</td>\n      <td>...</td>\n      <td>...</td>\n      <td>...</td>\n      <td>...</td>\n      <td>...</td>\n      <td>...</td>\n      <td>...</td>\n      <td>...</td>\n    </tr>\n    <tr>\n      <th>2933</th>\n      <td>192</td>\n      <td>2004.0</td>\n      <td>1</td>\n      <td>44.3</td>\n      <td>723.0</td>\n      <td>27.0</td>\n      <td>4.4</td>\n      <td>0.0</td>\n      <td>68.0</td>\n      <td>31.0</td>\n      <td>...</td>\n      <td>67.0</td>\n      <td>7.1</td>\n      <td>65.0</td>\n      <td>33.6</td>\n      <td>454.4</td>\n      <td>12777511.0</td>\n      <td>9.4</td>\n      <td>9.4</td>\n      <td>0.4</td>\n      <td>9.2</td>\n    </tr>\n    <tr>\n      <th>2934</th>\n      <td>192</td>\n      <td>2003.0</td>\n      <td>1</td>\n      <td>44.5</td>\n      <td>715.0</td>\n      <td>26.0</td>\n      <td>4.1</td>\n      <td>0.0</td>\n      <td>7.0</td>\n      <td>998.0</td>\n      <td>...</td>\n      <td>7.0</td>\n      <td>6.5</td>\n      <td>68.0</td>\n      <td>36.7</td>\n      <td>453.4</td>\n      <td>12633897.0</td>\n      <td>9.8</td>\n      <td>9.9</td>\n      <td>0.4</td>\n      <td>9.5</td>\n    </tr>\n    <tr>\n      <th>2935</th>\n      <td>192</td>\n      <td>2002.0</td>\n      <td>1</td>\n      <td>44.8</td>\n      <td>73.0</td>\n      <td>25.0</td>\n      <td>4.4</td>\n      <td>0.0</td>\n      <td>73.0</td>\n      <td>304.0</td>\n      <td>...</td>\n      <td>73.0</td>\n      <td>6.5</td>\n      <td>71.0</td>\n      <td>39.8</td>\n      <td>57.3</td>\n      <td>125525.0</td>\n      <td>1.2</td>\n      <td>1.3</td>\n      <td>0.4</td>\n      <td>10.0</td>\n    </tr>\n    <tr>\n      <th>2936</th>\n      <td>192</td>\n      <td>2001.0</td>\n      <td>1</td>\n      <td>45.3</td>\n      <td>686.0</td>\n      <td>25.0</td>\n      <td>1.7</td>\n      <td>0.0</td>\n      <td>76.0</td>\n      <td>529.0</td>\n      <td>...</td>\n      <td>76.0</td>\n      <td>6.2</td>\n      <td>75.0</td>\n      <td>42.1</td>\n      <td>548.6</td>\n      <td>12366165.0</td>\n      <td>1.6</td>\n      <td>1.7</td>\n      <td>0.4</td>\n      <td>9.8</td>\n    </tr>\n    <tr>\n      <th>2937</th>\n      <td>192</td>\n      <td>2000.0</td>\n      <td>1</td>\n      <td>46.0</td>\n      <td>665.0</td>\n      <td>24.0</td>\n      <td>1.7</td>\n      <td>0.0</td>\n      <td>79.0</td>\n      <td>1483.0</td>\n      <td>...</td>\n      <td>78.0</td>\n      <td>7.1</td>\n      <td>78.0</td>\n      <td>43.5</td>\n      <td>547.4</td>\n      <td>12222251.0</td>\n      <td>11.0</td>\n      <td>11.2</td>\n      <td>0.4</td>\n      <td>9.8</td>\n    </tr>\n  </tbody>\n</table>\n<p>2938 rows × 22 columns</p>\n</div>"
     },
     "metadata": {},
     "output_type": "display_data"
    }
   ],
   "source": [
    "def imputing_data(data):\n",
    "    numeric_columns = data.select_dtypes(include='number').columns\n",
    "    categorical_columns = data.select_dtypes(exclude='number').columns\n",
    "\n",
    "    imputer_numeric = SimpleImputer(strategy='mean')\n",
    "    imputer_categorical = SimpleImputer(strategy='most_frequent')\n",
    "\n",
    "    data[numeric_columns] = imputer_numeric.fit_transform(data[numeric_columns])\n",
    "    data[categorical_columns] = imputer_categorical.fit_transform(data[categorical_columns])\n",
    "\n",
    "    label_encoder = LabelEncoder()\n",
    "    for column in categorical_columns:\n",
    "        data[column] = label_encoder.fit_transform(data[column])\n",
    "\n",
    "    data[numeric_columns] = data[numeric_columns].round(1)\n",
    "\n",
    "    return data\n",
    "\n",
    "imputing_data(data)\n",
    "display(data)"
   ],
   "metadata": {
    "collapsed": false,
    "ExecuteTime": {
     "end_time": "2023-07-23T17:01:16.354655500Z",
     "start_time": "2023-07-23T17:01:16.311183700Z"
    }
   }
  },
  {
   "cell_type": "markdown",
   "source": [
    "Normalize with Min-Max scaler"
   ],
   "metadata": {
    "collapsed": false
   }
  },
  {
   "cell_type": "code",
   "execution_count": 7,
   "outputs": [],
   "source": [
    "from sklearn.preprocessing import MinMaxScaler\n",
    "\n",
    "# Chuẩn hóa các đặc trưng, trừ cột \"Life expectancy\" (cột cần dự đoán)\n",
    "scaler = MinMaxScaler()\n",
    "data[data.columns[1:]] = scaler.fit_transform(data[data.columns[1:]])\n"
   ],
   "metadata": {
    "collapsed": false,
    "ExecuteTime": {
     "end_time": "2023-07-23T17:03:26.722048400Z",
     "start_time": "2023-07-23T17:03:26.707035400Z"
    }
   }
  },
  {
   "cell_type": "markdown",
   "source": [
    "Linear regression:"
   ],
   "metadata": {
    "collapsed": false
   }
  },
  {
   "cell_type": "code",
   "execution_count": 8,
   "outputs": [],
   "source": [
    "from sklearn.linear_model import LinearRegression\n",
    "from sklearn.model_selection import train_test_split\n",
    "\n",
    "# Tách dữ liệu thành features (X) và labels (y)\n",
    "X = data[data.columns[2:]]\n",
    "y = data[\"Life expectancy \"]\n",
    "\n",
    "# Chia dữ liệu thành tập huấn luyện và tập kiểm tra\n",
    "X_train, X_test, y_train, y_test = train_test_split(X, y, test_size=0.2, random_state=42)\n",
    "\n",
    "# Khởi tạo và huấn luyện mô hình Linear Regression\n",
    "model = LinearRegression()\n",
    "model.fit(X_train, y_train)\n",
    "\n",
    "# Dự đoán trên tập kiểm tra\n",
    "y_pred = model.predict(X_test)\n"
   ],
   "metadata": {
    "collapsed": false,
    "ExecuteTime": {
     "end_time": "2023-07-23T17:05:17.344125100Z",
     "start_time": "2023-07-23T17:05:17.314835900Z"
    }
   }
  },
  {
   "cell_type": "markdown",
   "source": [
    "MAE, MSE, R^2"
   ],
   "metadata": {
    "collapsed": false
   }
  },
  {
   "cell_type": "code",
   "execution_count": 9,
   "outputs": [
    {
     "name": "stdout",
     "output_type": "stream",
     "text": [
      "Mean Absolute Error (MAE): 3.403834281705784e-16\n",
      "Mean Squared Error (MSE): 1.6234803337329546e-31\n",
      "R^2 Score: 1.0\n"
     ]
    }
   ],
   "source": [
    "from sklearn.metrics import mean_absolute_error, mean_squared_error, r2_score\n",
    "\n",
    "# Tính các sai số\n",
    "mae = mean_absolute_error(y_test, y_pred)\n",
    "mse = mean_squared_error(y_test, y_pred)\n",
    "r2 = r2_score(y_test, y_pred)\n",
    "\n",
    "print(\"Mean Absolute Error (MAE):\", mae)\n",
    "print(\"Mean Squared Error (MSE):\", mse)\n",
    "print(\"R^2 Score:\", r2)\n"
   ],
   "metadata": {
    "collapsed": false,
    "ExecuteTime": {
     "end_time": "2023-07-23T17:40:21.278845900Z",
     "start_time": "2023-07-23T17:40:21.271906900Z"
    }
   }
  },
  {
   "cell_type": "markdown",
   "source": [
    "cross-validation"
   ],
   "metadata": {
    "collapsed": false
   }
  },
  {
   "cell_type": "code",
   "execution_count": 10,
   "outputs": [
    {
     "name": "stdout",
     "output_type": "stream",
     "text": [
      "Cross-Validation Scores: [1. 1. 1. 1. 1.]\n",
      "Average Cross-Validation Score: 1.0\n"
     ]
    }
   ],
   "source": [
    "from sklearn.model_selection import cross_val_score\n",
    "\n",
    "# Áp dụng cross-validation với 5 folds\n",
    "cv_scores = cross_val_score(model, X, y, cv=5)\n",
    "\n",
    "print(\"Cross-Validation Scores:\", cv_scores)\n",
    "print(\"Average Cross-Validation Score:\", cv_scores.mean())\n"
   ],
   "metadata": {
    "collapsed": false,
    "ExecuteTime": {
     "end_time": "2023-07-23T17:40:25.266509500Z",
     "start_time": "2023-07-23T17:40:25.219910200Z"
    }
   }
  },
  {
   "cell_type": "markdown",
   "source": [],
   "metadata": {
    "collapsed": false
   }
  }
 ],
 "metadata": {
  "kernelspec": {
   "display_name": "Python 3",
   "language": "python",
   "name": "python3"
  },
  "language_info": {
   "codemirror_mode": {
    "name": "ipython",
    "version": 2
   },
   "file_extension": ".py",
   "mimetype": "text/x-python",
   "name": "python",
   "nbconvert_exporter": "python",
   "pygments_lexer": "ipython2",
   "version": "2.7.6"
  }
 },
 "nbformat": 4,
 "nbformat_minor": 0
}
